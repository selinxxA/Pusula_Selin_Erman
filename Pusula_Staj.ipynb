{
  "nbformat": 4,
  "nbformat_minor": 0,
  "metadata": {
    "colab": {
      "provenance": [],
      "authorship_tag": "ABX9TyP1xGje2z8uYqHy+a3RuT46",
      "include_colab_link": true
    },
    "kernelspec": {
      "name": "python3",
      "display_name": "Python 3"
    },
    "language_info": {
      "name": "python"
    }
  },
  "cells": [
    {
      "cell_type": "markdown",
      "metadata": {
        "id": "view-in-github",
        "colab_type": "text"
      },
      "source": [
        "<a href=\"https://colab.research.google.com/github/selinxxA/Pusula_Selin_Erman/blob/main/Pusula_Staj.ipynb\" target=\"_parent\"><img src=\"https://colab.research.google.com/assets/colab-badge.svg\" alt=\"Open In Colab\"/></a>"
      ]
    },
    {
      "cell_type": "code",
      "execution_count": 1,
      "metadata": {
        "colab": {
          "base_uri": "https://localhost:8080/"
        },
        "id": "5yQOkr9hYUQm",
        "outputId": "c4c75140-e9cf-403c-925c-8e70a4576dbf",
        "collapsed": true
      },
      "outputs": [
        {
          "output_type": "stream",
          "name": "stdout",
          "text": [
            "Requirement already satisfied: matplotlib in /usr/local/lib/python3.12/dist-packages (3.10.0)\n",
            "Requirement already satisfied: contourpy>=1.0.1 in /usr/local/lib/python3.12/dist-packages (from matplotlib) (1.3.3)\n",
            "Requirement already satisfied: cycler>=0.10 in /usr/local/lib/python3.12/dist-packages (from matplotlib) (0.12.1)\n",
            "Requirement already satisfied: fonttools>=4.22.0 in /usr/local/lib/python3.12/dist-packages (from matplotlib) (4.59.2)\n",
            "Requirement already satisfied: kiwisolver>=1.3.1 in /usr/local/lib/python3.12/dist-packages (from matplotlib) (1.4.9)\n",
            "Requirement already satisfied: numpy>=1.23 in /usr/local/lib/python3.12/dist-packages (from matplotlib) (2.0.2)\n",
            "Requirement already satisfied: packaging>=20.0 in /usr/local/lib/python3.12/dist-packages (from matplotlib) (25.0)\n",
            "Requirement already satisfied: pillow>=8 in /usr/local/lib/python3.12/dist-packages (from matplotlib) (11.3.0)\n",
            "Requirement already satisfied: pyparsing>=2.3.1 in /usr/local/lib/python3.12/dist-packages (from matplotlib) (3.2.3)\n",
            "Requirement already satisfied: python-dateutil>=2.7 in /usr/local/lib/python3.12/dist-packages (from matplotlib) (2.9.0.post0)\n",
            "Requirement already satisfied: matplotlib in /usr/local/lib/python3.12/dist-packages (3.10.0)\n",
            "Requirement already satisfied: contourpy>=1.0.1 in /usr/local/lib/python3.12/dist-packages (from matplotlib) (1.3.3)\n",
            "Requirement already satisfied: cycler>=0.10 in /usr/local/lib/python3.12/dist-packages (from matplotlib) (0.12.1)\n",
            "Requirement already satisfied: fonttools>=4.22.0 in /usr/local/lib/python3.12/dist-packages (from matplotlib) (4.59.2)\n",
            "Requirement already satisfied: kiwisolver>=1.3.1 in /usr/local/lib/python3.12/dist-packages (from matplotlib) (1.4.9)\n",
            "Requirement already satisfied: numpy>=1.23 in /usr/local/lib/python3.12/dist-packages (from matplotlib) (2.0.2)\n",
            "Requirement already satisfied: packaging>=20.0 in /usr/local/lib/python3.12/dist-packages (from matplotlib) (25.0)\n",
            "Requirement already satisfied: pillow>=8 in /usr/local/lib/python3.12/dist-packages (from matplotlib) (11.3.0)\n",
            "Requirement already satisfied: pyparsing>=2.3.1 in /usr/local/lib/python3.12/dist-packages (from matplotlib) (3.2.3)\n",
            "Requirement already satisfied: python-dateutil>=2.7 in /usr/local/lib/python3.12/dist-packages (from matplotlib) (2.9.0.post0)\n",
            "Requirement already satisfied: six>=1.5 in /usr/local/lib/python3.12/dist-packages (from python-dateutil>=2.7->matplotlib) (1.17.0)\n",
            "Requirement already satisfied: six>=1.5 in /usr/local/lib/python3.12/dist-packages (from python-dateutil>=2.7->matplotlib) (1.17.0)\n",
            "Requirement already satisfied: numpy in /usr/local/lib/python3.12/dist-packages (2.0.2)\n",
            "Requirement already satisfied: numpy in /usr/local/lib/python3.12/dist-packages (2.0.2)\n",
            "Requirement already satisfied: pandas in /usr/local/lib/python3.12/dist-packages (2.2.2)\n",
            "Requirement already satisfied: numpy>=1.26.0 in /usr/local/lib/python3.12/dist-packages (from pandas) (2.0.2)\n",
            "Requirement already satisfied: python-dateutil>=2.8.2 in /usr/local/lib/python3.12/dist-packages (from pandas) (2.9.0.post0)\n",
            "Requirement already satisfied: pytz>=2020.1 in /usr/local/lib/python3.12/dist-packages (from pandas) (2025.2)\n",
            "Requirement already satisfied: tzdata>=2022.7 in /usr/local/lib/python3.12/dist-packages (from pandas) (2025.2)\n",
            "Requirement already satisfied: six>=1.5 in /usr/local/lib/python3.12/dist-packages (from python-dateutil>=2.8.2->pandas) (1.17.0)\n",
            "Requirement already satisfied: pandas in /usr/local/lib/python3.12/dist-packages (2.2.2)\n",
            "Requirement already satisfied: numpy>=1.26.0 in /usr/local/lib/python3.12/dist-packages (from pandas) (2.0.2)\n",
            "Requirement already satisfied: python-dateutil>=2.8.2 in /usr/local/lib/python3.12/dist-packages (from pandas) (2.9.0.post0)\n",
            "Requirement already satisfied: pytz>=2020.1 in /usr/local/lib/python3.12/dist-packages (from pandas) (2025.2)\n",
            "Requirement already satisfied: tzdata>=2022.7 in /usr/local/lib/python3.12/dist-packages (from pandas) (2025.2)\n",
            "Requirement already satisfied: six>=1.5 in /usr/local/lib/python3.12/dist-packages (from python-dateutil>=2.8.2->pandas) (1.17.0)\n",
            "Requirement already satisfied: seaborn in /usr/local/lib/python3.12/dist-packages (0.13.2)\n",
            "Requirement already satisfied: numpy!=1.24.0,>=1.20 in /usr/local/lib/python3.12/dist-packages (from seaborn) (2.0.2)\n",
            "Requirement already satisfied: pandas>=1.2 in /usr/local/lib/python3.12/dist-packages (from seaborn) (2.2.2)\n",
            "Requirement already satisfied: matplotlib!=3.6.1,>=3.4 in /usr/local/lib/python3.12/dist-packages (from seaborn) (3.10.0)\n",
            "Requirement already satisfied: contourpy>=1.0.1 in /usr/local/lib/python3.12/dist-packages (from matplotlib!=3.6.1,>=3.4->seaborn) (1.3.3)\n",
            "Requirement already satisfied: cycler>=0.10 in /usr/local/lib/python3.12/dist-packages (from matplotlib!=3.6.1,>=3.4->seaborn) (0.12.1)\n",
            "Requirement already satisfied: fonttools>=4.22.0 in /usr/local/lib/python3.12/dist-packages (from matplotlib!=3.6.1,>=3.4->seaborn) (4.59.2)\n",
            "Requirement already satisfied: kiwisolver>=1.3.1 in /usr/local/lib/python3.12/dist-packages (from matplotlib!=3.6.1,>=3.4->seaborn) (1.4.9)\n",
            "Requirement already satisfied: packaging>=20.0 in /usr/local/lib/python3.12/dist-packages (from matplotlib!=3.6.1,>=3.4->seaborn) (25.0)\n",
            "Requirement already satisfied: pillow>=8 in /usr/local/lib/python3.12/dist-packages (from matplotlib!=3.6.1,>=3.4->seaborn) (11.3.0)\n",
            "Requirement already satisfied: pyparsing>=2.3.1 in /usr/local/lib/python3.12/dist-packages (from matplotlib!=3.6.1,>=3.4->seaborn) (3.2.3)\n",
            "Requirement already satisfied: python-dateutil>=2.7 in /usr/local/lib/python3.12/dist-packages (from matplotlib!=3.6.1,>=3.4->seaborn) (2.9.0.post0)\n",
            "Requirement already satisfied: pytz>=2020.1 in /usr/local/lib/python3.12/dist-packages (from pandas>=1.2->seaborn) (2025.2)\n",
            "Requirement already satisfied: tzdata>=2022.7 in /usr/local/lib/python3.12/dist-packages (from pandas>=1.2->seaborn) (2025.2)\n",
            "Requirement already satisfied: six>=1.5 in /usr/local/lib/python3.12/dist-packages (from python-dateutil>=2.7->matplotlib!=3.6.1,>=3.4->seaborn) (1.17.0)\n",
            "Requirement already satisfied: seaborn in /usr/local/lib/python3.12/dist-packages (0.13.2)\n",
            "Requirement already satisfied: numpy!=1.24.0,>=1.20 in /usr/local/lib/python3.12/dist-packages (from seaborn) (2.0.2)\n",
            "Requirement already satisfied: pandas>=1.2 in /usr/local/lib/python3.12/dist-packages (from seaborn) (2.2.2)\n",
            "Requirement already satisfied: matplotlib!=3.6.1,>=3.4 in /usr/local/lib/python3.12/dist-packages (from seaborn) (3.10.0)\n",
            "Requirement already satisfied: contourpy>=1.0.1 in /usr/local/lib/python3.12/dist-packages (from matplotlib!=3.6.1,>=3.4->seaborn) (1.3.3)\n",
            "Requirement already satisfied: cycler>=0.10 in /usr/local/lib/python3.12/dist-packages (from matplotlib!=3.6.1,>=3.4->seaborn) (0.12.1)\n",
            "Requirement already satisfied: fonttools>=4.22.0 in /usr/local/lib/python3.12/dist-packages (from matplotlib!=3.6.1,>=3.4->seaborn) (4.59.2)\n",
            "Requirement already satisfied: kiwisolver>=1.3.1 in /usr/local/lib/python3.12/dist-packages (from matplotlib!=3.6.1,>=3.4->seaborn) (1.4.9)\n",
            "Requirement already satisfied: packaging>=20.0 in /usr/local/lib/python3.12/dist-packages (from matplotlib!=3.6.1,>=3.4->seaborn) (25.0)\n",
            "Requirement already satisfied: pillow>=8 in /usr/local/lib/python3.12/dist-packages (from matplotlib!=3.6.1,>=3.4->seaborn) (11.3.0)\n",
            "Requirement already satisfied: pyparsing>=2.3.1 in /usr/local/lib/python3.12/dist-packages (from matplotlib!=3.6.1,>=3.4->seaborn) (3.2.3)\n",
            "Requirement already satisfied: python-dateutil>=2.7 in /usr/local/lib/python3.12/dist-packages (from matplotlib!=3.6.1,>=3.4->seaborn) (2.9.0.post0)\n",
            "Requirement already satisfied: pytz>=2020.1 in /usr/local/lib/python3.12/dist-packages (from pandas>=1.2->seaborn) (2025.2)\n",
            "Requirement already satisfied: tzdata>=2022.7 in /usr/local/lib/python3.12/dist-packages (from pandas>=1.2->seaborn) (2025.2)\n",
            "Requirement already satisfied: six>=1.5 in /usr/local/lib/python3.12/dist-packages (from python-dateutil>=2.7->matplotlib!=3.6.1,>=3.4->seaborn) (1.17.0)\n"
          ]
        }
      ],
      "source": [
        "!pip install matplotlib\n",
        "!pip install numpy\n",
        "!pip install pandas\n",
        "!pip install seaborn\n",
        "\n"
      ]
    },
    {
      "cell_type": "code",
      "source": [
        "import numpy as np\n",
        "import pandas as pd\n",
        "import matplotlib.pyplot as plt\n",
        "import seaborn as sns\n",
        "\n",
        "df=pd.read_excel(\"/content/Talent_Academy_Case_DT_2025.xlsx\")\n",
        "\n",
        "print(df.isna().sum())\n",
        "print(df.isna().sum(axis=1).head())"
      ],
      "metadata": {
        "colab": {
          "base_uri": "https://localhost:8080/"
        },
        "id": "qSGU4fTkahBN",
        "outputId": "f93f1511-be2c-4d1a-c608-459f4b837b16",
        "collapsed": true
      },
      "execution_count": 3,
      "outputs": [
        {
          "output_type": "stream",
          "name": "stdout",
          "text": [
            "HastaNo              0\n",
            "Yas                  0\n",
            "Cinsiyet           169\n",
            "KanGrubu           675\n",
            "Uyruk                0\n",
            "KronikHastalik     611\n",
            "Bolum               11\n",
            "Alerji             944\n",
            "Tanilar             75\n",
            "TedaviAdi            0\n",
            "TedaviSuresi         0\n",
            "UygulamaYerleri    221\n",
            "UygulamaSuresi       0\n",
            "dtype: int64\n",
            "0    0\n",
            "1    1\n",
            "2    1\n",
            "3    1\n",
            "4    1\n",
            "dtype: int64\n"
          ]
        }
      ]
    },
    {
      "cell_type": "code",
      "source": [
        "df.info()"
      ],
      "metadata": {
        "colab": {
          "base_uri": "https://localhost:8080/"
        },
        "id": "uJkpzoCsf7bC",
        "outputId": "ba3be32e-5c25-45ca-d052-2582a5f325b1"
      },
      "execution_count": 4,
      "outputs": [
        {
          "output_type": "stream",
          "name": "stdout",
          "text": [
            "<class 'pandas.core.frame.DataFrame'>\n",
            "RangeIndex: 2235 entries, 0 to 2234\n",
            "Data columns (total 13 columns):\n",
            " #   Column           Non-Null Count  Dtype \n",
            "---  ------           --------------  ----- \n",
            " 0   HastaNo          2235 non-null   int64 \n",
            " 1   Yas              2235 non-null   int64 \n",
            " 2   Cinsiyet         2066 non-null   object\n",
            " 3   KanGrubu         1560 non-null   object\n",
            " 4   Uyruk            2235 non-null   object\n",
            " 5   KronikHastalik   1624 non-null   object\n",
            " 6   Bolum            2224 non-null   object\n",
            " 7   Alerji           1291 non-null   object\n",
            " 8   Tanilar          2160 non-null   object\n",
            " 9   TedaviAdi        2235 non-null   object\n",
            " 10  TedaviSuresi     2235 non-null   object\n",
            " 11  UygulamaYerleri  2014 non-null   object\n",
            " 12  UygulamaSuresi   2235 non-null   object\n",
            "dtypes: int64(2), object(11)\n",
            "memory usage: 227.1+ KB\n"
          ]
        }
      ]
    },
    {
      "cell_type": "code",
      "source": [
        "df['Yas'].describe()"
      ],
      "metadata": {
        "colab": {
          "base_uri": "https://localhost:8080/",
          "height": 335
        },
        "collapsed": true,
        "id": "TDj5RxFl9Ha7",
        "outputId": "38c1ebdd-7a74-4b54-b09e-46077f52e3c2"
      },
      "execution_count": 5,
      "outputs": [
        {
          "output_type": "execute_result",
          "data": {
            "text/plain": [
              "count    2235.000000\n",
              "mean       47.327069\n",
              "std        15.208634\n",
              "min         2.000000\n",
              "25%        38.000000\n",
              "50%        46.000000\n",
              "75%        56.000000\n",
              "max        92.000000\n",
              "Name: Yas, dtype: float64"
            ],
            "text/html": [
              "<div>\n",
              "<style scoped>\n",
              "    .dataframe tbody tr th:only-of-type {\n",
              "        vertical-align: middle;\n",
              "    }\n",
              "\n",
              "    .dataframe tbody tr th {\n",
              "        vertical-align: top;\n",
              "    }\n",
              "\n",
              "    .dataframe thead th {\n",
              "        text-align: right;\n",
              "    }\n",
              "</style>\n",
              "<table border=\"1\" class=\"dataframe\">\n",
              "  <thead>\n",
              "    <tr style=\"text-align: right;\">\n",
              "      <th></th>\n",
              "      <th>Yas</th>\n",
              "    </tr>\n",
              "  </thead>\n",
              "  <tbody>\n",
              "    <tr>\n",
              "      <th>count</th>\n",
              "      <td>2235.000000</td>\n",
              "    </tr>\n",
              "    <tr>\n",
              "      <th>mean</th>\n",
              "      <td>47.327069</td>\n",
              "    </tr>\n",
              "    <tr>\n",
              "      <th>std</th>\n",
              "      <td>15.208634</td>\n",
              "    </tr>\n",
              "    <tr>\n",
              "      <th>min</th>\n",
              "      <td>2.000000</td>\n",
              "    </tr>\n",
              "    <tr>\n",
              "      <th>25%</th>\n",
              "      <td>38.000000</td>\n",
              "    </tr>\n",
              "    <tr>\n",
              "      <th>50%</th>\n",
              "      <td>46.000000</td>\n",
              "    </tr>\n",
              "    <tr>\n",
              "      <th>75%</th>\n",
              "      <td>56.000000</td>\n",
              "    </tr>\n",
              "    <tr>\n",
              "      <th>max</th>\n",
              "      <td>92.000000</td>\n",
              "    </tr>\n",
              "  </tbody>\n",
              "</table>\n",
              "</div><br><label><b>dtype:</b> float64</label>"
            ]
          },
          "metadata": {},
          "execution_count": 5
        }
      ]
    },
    {
      "cell_type": "code",
      "source": [
        "df['Cinsiyet'].value_counts()"
      ],
      "metadata": {
        "colab": {
          "base_uri": "https://localhost:8080/",
          "height": 178
        },
        "id": "BYhUdj6a-9e-",
        "outputId": "6f4466e8-8b2a-47c1-d46b-77a337fc7b65"
      },
      "execution_count": 6,
      "outputs": [
        {
          "output_type": "execute_result",
          "data": {
            "text/plain": [
              "Cinsiyet\n",
              "Kadın    1274\n",
              "Erkek     792\n",
              "Name: count, dtype: int64"
            ],
            "text/html": [
              "<div>\n",
              "<style scoped>\n",
              "    .dataframe tbody tr th:only-of-type {\n",
              "        vertical-align: middle;\n",
              "    }\n",
              "\n",
              "    .dataframe tbody tr th {\n",
              "        vertical-align: top;\n",
              "    }\n",
              "\n",
              "    .dataframe thead th {\n",
              "        text-align: right;\n",
              "    }\n",
              "</style>\n",
              "<table border=\"1\" class=\"dataframe\">\n",
              "  <thead>\n",
              "    <tr style=\"text-align: right;\">\n",
              "      <th></th>\n",
              "      <th>count</th>\n",
              "    </tr>\n",
              "    <tr>\n",
              "      <th>Cinsiyet</th>\n",
              "      <th></th>\n",
              "    </tr>\n",
              "  </thead>\n",
              "  <tbody>\n",
              "    <tr>\n",
              "      <th>Kadın</th>\n",
              "      <td>1274</td>\n",
              "    </tr>\n",
              "    <tr>\n",
              "      <th>Erkek</th>\n",
              "      <td>792</td>\n",
              "    </tr>\n",
              "  </tbody>\n",
              "</table>\n",
              "</div><br><label><b>dtype:</b> int64</label>"
            ]
          },
          "metadata": {},
          "execution_count": 6
        }
      ]
    },
    {
      "cell_type": "code",
      "source": [
        "df['Cinsiyet'].isnull().value_counts()"
      ],
      "metadata": {
        "colab": {
          "base_uri": "https://localhost:8080/",
          "height": 178
        },
        "id": "TtqPWhL10U3T",
        "outputId": "3ccef48c-c81d-4c24-f56f-a298e15faa92"
      },
      "execution_count": 7,
      "outputs": [
        {
          "output_type": "execute_result",
          "data": {
            "text/plain": [
              "Cinsiyet\n",
              "False    2066\n",
              "True      169\n",
              "Name: count, dtype: int64"
            ],
            "text/html": [
              "<div>\n",
              "<style scoped>\n",
              "    .dataframe tbody tr th:only-of-type {\n",
              "        vertical-align: middle;\n",
              "    }\n",
              "\n",
              "    .dataframe tbody tr th {\n",
              "        vertical-align: top;\n",
              "    }\n",
              "\n",
              "    .dataframe thead th {\n",
              "        text-align: right;\n",
              "    }\n",
              "</style>\n",
              "<table border=\"1\" class=\"dataframe\">\n",
              "  <thead>\n",
              "    <tr style=\"text-align: right;\">\n",
              "      <th></th>\n",
              "      <th>count</th>\n",
              "    </tr>\n",
              "    <tr>\n",
              "      <th>Cinsiyet</th>\n",
              "      <th></th>\n",
              "    </tr>\n",
              "  </thead>\n",
              "  <tbody>\n",
              "    <tr>\n",
              "      <th>False</th>\n",
              "      <td>2066</td>\n",
              "    </tr>\n",
              "    <tr>\n",
              "      <th>True</th>\n",
              "      <td>169</td>\n",
              "    </tr>\n",
              "  </tbody>\n",
              "</table>\n",
              "</div><br><label><b>dtype:</b> int64</label>"
            ]
          },
          "metadata": {},
          "execution_count": 7
        }
      ]
    },
    {
      "cell_type": "code",
      "source": [
        "df[\"Cinsiyet\"] = df.groupby(\"HastaNo\")[\"Cinsiyet\"].transform(lambda x: x.ffill().bfill())\n",
        "df['Cinsiyet'].isnull().value_counts()"
      ],
      "metadata": {
        "colab": {
          "base_uri": "https://localhost:8080/",
          "height": 233
        },
        "id": "MAqqPE3W0gXu",
        "outputId": "620a2b00-f55b-4384-9415-e220ee59b852"
      },
      "execution_count": 8,
      "outputs": [
        {
          "output_type": "stream",
          "name": "stderr",
          "text": [
            "/tmp/ipython-input-518176957.py:1: FutureWarning: Downcasting object dtype arrays on .fillna, .ffill, .bfill is deprecated and will change in a future version. Call result.infer_objects(copy=False) instead. To opt-in to the future behavior, set `pd.set_option('future.no_silent_downcasting', True)`\n",
            "  df[\"Cinsiyet\"] = df.groupby(\"HastaNo\")[\"Cinsiyet\"].transform(lambda x: x.ffill().bfill())\n"
          ]
        },
        {
          "output_type": "execute_result",
          "data": {
            "text/plain": [
              "Cinsiyet\n",
              "False    2090\n",
              "True      145\n",
              "Name: count, dtype: int64"
            ],
            "text/html": [
              "<div>\n",
              "<style scoped>\n",
              "    .dataframe tbody tr th:only-of-type {\n",
              "        vertical-align: middle;\n",
              "    }\n",
              "\n",
              "    .dataframe tbody tr th {\n",
              "        vertical-align: top;\n",
              "    }\n",
              "\n",
              "    .dataframe thead th {\n",
              "        text-align: right;\n",
              "    }\n",
              "</style>\n",
              "<table border=\"1\" class=\"dataframe\">\n",
              "  <thead>\n",
              "    <tr style=\"text-align: right;\">\n",
              "      <th></th>\n",
              "      <th>count</th>\n",
              "    </tr>\n",
              "    <tr>\n",
              "      <th>Cinsiyet</th>\n",
              "      <th></th>\n",
              "    </tr>\n",
              "  </thead>\n",
              "  <tbody>\n",
              "    <tr>\n",
              "      <th>False</th>\n",
              "      <td>2090</td>\n",
              "    </tr>\n",
              "    <tr>\n",
              "      <th>True</th>\n",
              "      <td>145</td>\n",
              "    </tr>\n",
              "  </tbody>\n",
              "</table>\n",
              "</div><br><label><b>dtype:</b> int64</label>"
            ]
          },
          "metadata": {},
          "execution_count": 8
        }
      ]
    },
    {
      "cell_type": "code",
      "source": [
        "df['KanGrubu'].value_counts()"
      ],
      "metadata": {
        "colab": {
          "base_uri": "https://localhost:8080/",
          "height": 366
        },
        "id": "tSb1o8Hx_EHl",
        "outputId": "8846ccde-0287-4a5d-8d65-4074bb902fcf"
      },
      "execution_count": 9,
      "outputs": [
        {
          "output_type": "execute_result",
          "data": {
            "text/plain": [
              "KanGrubu\n",
              "0 Rh+     579\n",
              "A Rh+     540\n",
              "B Rh+     206\n",
              "AB Rh+     80\n",
              "B Rh-      68\n",
              "A Rh-      53\n",
              "0 Rh-      26\n",
              "AB Rh-      8\n",
              "Name: count, dtype: int64"
            ],
            "text/html": [
              "<div>\n",
              "<style scoped>\n",
              "    .dataframe tbody tr th:only-of-type {\n",
              "        vertical-align: middle;\n",
              "    }\n",
              "\n",
              "    .dataframe tbody tr th {\n",
              "        vertical-align: top;\n",
              "    }\n",
              "\n",
              "    .dataframe thead th {\n",
              "        text-align: right;\n",
              "    }\n",
              "</style>\n",
              "<table border=\"1\" class=\"dataframe\">\n",
              "  <thead>\n",
              "    <tr style=\"text-align: right;\">\n",
              "      <th></th>\n",
              "      <th>count</th>\n",
              "    </tr>\n",
              "    <tr>\n",
              "      <th>KanGrubu</th>\n",
              "      <th></th>\n",
              "    </tr>\n",
              "  </thead>\n",
              "  <tbody>\n",
              "    <tr>\n",
              "      <th>0 Rh+</th>\n",
              "      <td>579</td>\n",
              "    </tr>\n",
              "    <tr>\n",
              "      <th>A Rh+</th>\n",
              "      <td>540</td>\n",
              "    </tr>\n",
              "    <tr>\n",
              "      <th>B Rh+</th>\n",
              "      <td>206</td>\n",
              "    </tr>\n",
              "    <tr>\n",
              "      <th>AB Rh+</th>\n",
              "      <td>80</td>\n",
              "    </tr>\n",
              "    <tr>\n",
              "      <th>B Rh-</th>\n",
              "      <td>68</td>\n",
              "    </tr>\n",
              "    <tr>\n",
              "      <th>A Rh-</th>\n",
              "      <td>53</td>\n",
              "    </tr>\n",
              "    <tr>\n",
              "      <th>0 Rh-</th>\n",
              "      <td>26</td>\n",
              "    </tr>\n",
              "    <tr>\n",
              "      <th>AB Rh-</th>\n",
              "      <td>8</td>\n",
              "    </tr>\n",
              "  </tbody>\n",
              "</table>\n",
              "</div><br><label><b>dtype:</b> int64</label>"
            ]
          },
          "metadata": {},
          "execution_count": 9
        }
      ]
    },
    {
      "cell_type": "code",
      "source": [
        "df['KanGrubu'].isnull().value_counts()"
      ],
      "metadata": {
        "colab": {
          "base_uri": "https://localhost:8080/",
          "height": 178
        },
        "id": "5oTuacOp0o_-",
        "outputId": "a5c554e9-9a12-45f9-ae90-1c78fca822cb"
      },
      "execution_count": 10,
      "outputs": [
        {
          "output_type": "execute_result",
          "data": {
            "text/plain": [
              "KanGrubu\n",
              "False    1560\n",
              "True      675\n",
              "Name: count, dtype: int64"
            ],
            "text/html": [
              "<div>\n",
              "<style scoped>\n",
              "    .dataframe tbody tr th:only-of-type {\n",
              "        vertical-align: middle;\n",
              "    }\n",
              "\n",
              "    .dataframe tbody tr th {\n",
              "        vertical-align: top;\n",
              "    }\n",
              "\n",
              "    .dataframe thead th {\n",
              "        text-align: right;\n",
              "    }\n",
              "</style>\n",
              "<table border=\"1\" class=\"dataframe\">\n",
              "  <thead>\n",
              "    <tr style=\"text-align: right;\">\n",
              "      <th></th>\n",
              "      <th>count</th>\n",
              "    </tr>\n",
              "    <tr>\n",
              "      <th>KanGrubu</th>\n",
              "      <th></th>\n",
              "    </tr>\n",
              "  </thead>\n",
              "  <tbody>\n",
              "    <tr>\n",
              "      <th>False</th>\n",
              "      <td>1560</td>\n",
              "    </tr>\n",
              "    <tr>\n",
              "      <th>True</th>\n",
              "      <td>675</td>\n",
              "    </tr>\n",
              "  </tbody>\n",
              "</table>\n",
              "</div><br><label><b>dtype:</b> int64</label>"
            ]
          },
          "metadata": {},
          "execution_count": 10
        }
      ]
    },
    {
      "cell_type": "code",
      "source": [
        "df[\"KanGrubu\"] = df.groupby(\"HastaNo\")[\"KanGrubu\"].transform(lambda x: x.ffill().bfill())\n",
        "df['KanGrubu'].isnull().value_counts()"
      ],
      "metadata": {
        "colab": {
          "base_uri": "https://localhost:8080/",
          "height": 233
        },
        "id": "wsjf7Rvn0wjE",
        "outputId": "f5a70eb3-7e2c-4a43-8978-b4657b5382fa"
      },
      "execution_count": 11,
      "outputs": [
        {
          "output_type": "stream",
          "name": "stderr",
          "text": [
            "/tmp/ipython-input-2382354413.py:1: FutureWarning: Downcasting object dtype arrays on .fillna, .ffill, .bfill is deprecated and will change in a future version. Call result.infer_objects(copy=False) instead. To opt-in to the future behavior, set `pd.set_option('future.no_silent_downcasting', True)`\n",
            "  df[\"KanGrubu\"] = df.groupby(\"HastaNo\")[\"KanGrubu\"].transform(lambda x: x.ffill().bfill())\n"
          ]
        },
        {
          "output_type": "execute_result",
          "data": {
            "text/plain": [
              "KanGrubu\n",
              "False    1591\n",
              "True      644\n",
              "Name: count, dtype: int64"
            ],
            "text/html": [
              "<div>\n",
              "<style scoped>\n",
              "    .dataframe tbody tr th:only-of-type {\n",
              "        vertical-align: middle;\n",
              "    }\n",
              "\n",
              "    .dataframe tbody tr th {\n",
              "        vertical-align: top;\n",
              "    }\n",
              "\n",
              "    .dataframe thead th {\n",
              "        text-align: right;\n",
              "    }\n",
              "</style>\n",
              "<table border=\"1\" class=\"dataframe\">\n",
              "  <thead>\n",
              "    <tr style=\"text-align: right;\">\n",
              "      <th></th>\n",
              "      <th>count</th>\n",
              "    </tr>\n",
              "    <tr>\n",
              "      <th>KanGrubu</th>\n",
              "      <th></th>\n",
              "    </tr>\n",
              "  </thead>\n",
              "  <tbody>\n",
              "    <tr>\n",
              "      <th>False</th>\n",
              "      <td>1591</td>\n",
              "    </tr>\n",
              "    <tr>\n",
              "      <th>True</th>\n",
              "      <td>644</td>\n",
              "    </tr>\n",
              "  </tbody>\n",
              "</table>\n",
              "</div><br><label><b>dtype:</b> int64</label>"
            ]
          },
          "metadata": {},
          "execution_count": 11
        }
      ]
    },
    {
      "cell_type": "code",
      "source": [
        "df['Uyruk'].value_counts()"
      ],
      "metadata": {
        "colab": {
          "base_uri": "https://localhost:8080/",
          "height": 272
        },
        "id": "2TCxai0t_WlY",
        "outputId": "90b6d5db-b56e-480a-969f-3e056450051f"
      },
      "execution_count": 12,
      "outputs": [
        {
          "output_type": "execute_result",
          "data": {
            "text/plain": [
              "Uyruk\n",
              "Türkiye       2173\n",
              "Tokelau         27\n",
              "Arnavutluk      13\n",
              "Azerbaycan      12\n",
              "Libya           10\n",
              "Name: count, dtype: int64"
            ],
            "text/html": [
              "<div>\n",
              "<style scoped>\n",
              "    .dataframe tbody tr th:only-of-type {\n",
              "        vertical-align: middle;\n",
              "    }\n",
              "\n",
              "    .dataframe tbody tr th {\n",
              "        vertical-align: top;\n",
              "    }\n",
              "\n",
              "    .dataframe thead th {\n",
              "        text-align: right;\n",
              "    }\n",
              "</style>\n",
              "<table border=\"1\" class=\"dataframe\">\n",
              "  <thead>\n",
              "    <tr style=\"text-align: right;\">\n",
              "      <th></th>\n",
              "      <th>count</th>\n",
              "    </tr>\n",
              "    <tr>\n",
              "      <th>Uyruk</th>\n",
              "      <th></th>\n",
              "    </tr>\n",
              "  </thead>\n",
              "  <tbody>\n",
              "    <tr>\n",
              "      <th>Türkiye</th>\n",
              "      <td>2173</td>\n",
              "    </tr>\n",
              "    <tr>\n",
              "      <th>Tokelau</th>\n",
              "      <td>27</td>\n",
              "    </tr>\n",
              "    <tr>\n",
              "      <th>Arnavutluk</th>\n",
              "      <td>13</td>\n",
              "    </tr>\n",
              "    <tr>\n",
              "      <th>Azerbaycan</th>\n",
              "      <td>12</td>\n",
              "    </tr>\n",
              "    <tr>\n",
              "      <th>Libya</th>\n",
              "      <td>10</td>\n",
              "    </tr>\n",
              "  </tbody>\n",
              "</table>\n",
              "</div><br><label><b>dtype:</b> int64</label>"
            ]
          },
          "metadata": {},
          "execution_count": 12
        }
      ]
    },
    {
      "cell_type": "code",
      "source": [
        "df[\"Uyruk\"] = df[\"Uyruk\"].map(lambda x: 1 if x == \"Türkiye\" else 0)\n",
        "df.head()"
      ],
      "metadata": {
        "collapsed": true,
        "colab": {
          "base_uri": "https://localhost:8080/",
          "height": 380
        },
        "id": "iy9_rSeN1Jun",
        "outputId": "a5ce1864-4ba5-4ec5-eb2a-d94b26a94048"
      },
      "execution_count": 13,
      "outputs": [
        {
          "output_type": "execute_result",
          "data": {
            "text/plain": [
              "   HastaNo  Yas Cinsiyet KanGrubu  Uyruk  \\\n",
              "0   145134   60    Kadın    0 Rh+      1   \n",
              "1   145135   28    Erkek    0 Rh+      1   \n",
              "2   145135   28    Erkek    0 Rh+      1   \n",
              "3   145135   28    Erkek    0 Rh+      1   \n",
              "4   145135   28    Erkek    0 Rh+      1   \n",
              "\n",
              "                                      KronikHastalik  \\\n",
              "0  Becker Musküler Distrofisi, Hiportiroidizm, Ka...   \n",
              "1  Duchenne Musküler Distrofisi, Myastenia gravis...   \n",
              "2  Duchenne Musküler Distrofisi, Myastenia gravis...   \n",
              "3  Duchenne Musküler Distrofisi, Myastenia gravis...   \n",
              "4  Duchenne Musküler Distrofisi, Myastenia gravis...   \n",
              "\n",
              "                                            Bolum Alerji  \\\n",
              "0  Fiziksel Tıp Ve Rehabilitasyon,Solunum Merkezi    TOZ   \n",
              "1  Fiziksel Tıp Ve Rehabilitasyon,Solunum Merkezi    NaN   \n",
              "2  Fiziksel Tıp Ve Rehabilitasyon,Solunum Merkezi    NaN   \n",
              "3  Fiziksel Tıp Ve Rehabilitasyon,Solunum Merkezi    NaN   \n",
              "4  Fiziksel Tıp Ve Rehabilitasyon,Solunum Merkezi    NaN   \n",
              "\n",
              "                                             Tanilar  \\\n",
              "0         Ayak bileği ve ayağın yüzeysel yaralanması   \n",
              "1  Omuzun darbe sendromu,DORSALJİ, DİĞER, SERVİKO...   \n",
              "2  Omuzun darbe sendromu,DORSALJİ, DİĞER, SERVİKO...   \n",
              "3  Omuzun darbe sendromu,DORSALJİ, DİĞER, SERVİKO...   \n",
              "4  Omuzun darbe sendromu,DORSALJİ, DİĞER, SERVİKO...   \n",
              "\n",
              "                         TedaviAdi TedaviSuresi UygulamaYerleri UygulamaSuresi  \n",
              "0                      Ayak Bileği      5 Seans     Ayak Bileği      20 Dakika  \n",
              "1  Dorsalji -Boyun+trapez+skapular     15 Seans           Boyun      20 Dakika  \n",
              "2  Dorsalji -Boyun+trapez+skapular     15 Seans      Boyun,Sırt      20 Dakika  \n",
              "3  Dorsalji -Boyun+trapez+skapular     15 Seans           Boyun       5 Dakika  \n",
              "4  Dorsalji -Boyun+trapez+skapular     15 Seans      Boyun,Sırt      20 Dakika  "
            ],
            "text/html": [
              "\n",
              "  <div id=\"df-12776d3d-8ed2-4dff-aa04-f2365e528ea0\" class=\"colab-df-container\">\n",
              "    <div>\n",
              "<style scoped>\n",
              "    .dataframe tbody tr th:only-of-type {\n",
              "        vertical-align: middle;\n",
              "    }\n",
              "\n",
              "    .dataframe tbody tr th {\n",
              "        vertical-align: top;\n",
              "    }\n",
              "\n",
              "    .dataframe thead th {\n",
              "        text-align: right;\n",
              "    }\n",
              "</style>\n",
              "<table border=\"1\" class=\"dataframe\">\n",
              "  <thead>\n",
              "    <tr style=\"text-align: right;\">\n",
              "      <th></th>\n",
              "      <th>HastaNo</th>\n",
              "      <th>Yas</th>\n",
              "      <th>Cinsiyet</th>\n",
              "      <th>KanGrubu</th>\n",
              "      <th>Uyruk</th>\n",
              "      <th>KronikHastalik</th>\n",
              "      <th>Bolum</th>\n",
              "      <th>Alerji</th>\n",
              "      <th>Tanilar</th>\n",
              "      <th>TedaviAdi</th>\n",
              "      <th>TedaviSuresi</th>\n",
              "      <th>UygulamaYerleri</th>\n",
              "      <th>UygulamaSuresi</th>\n",
              "    </tr>\n",
              "  </thead>\n",
              "  <tbody>\n",
              "    <tr>\n",
              "      <th>0</th>\n",
              "      <td>145134</td>\n",
              "      <td>60</td>\n",
              "      <td>Kadın</td>\n",
              "      <td>0 Rh+</td>\n",
              "      <td>1</td>\n",
              "      <td>Becker Musküler Distrofisi, Hiportiroidizm, Ka...</td>\n",
              "      <td>Fiziksel Tıp Ve Rehabilitasyon,Solunum Merkezi</td>\n",
              "      <td>TOZ</td>\n",
              "      <td>Ayak bileği ve ayağın yüzeysel yaralanması</td>\n",
              "      <td>Ayak Bileği</td>\n",
              "      <td>5 Seans</td>\n",
              "      <td>Ayak Bileği</td>\n",
              "      <td>20 Dakika</td>\n",
              "    </tr>\n",
              "    <tr>\n",
              "      <th>1</th>\n",
              "      <td>145135</td>\n",
              "      <td>28</td>\n",
              "      <td>Erkek</td>\n",
              "      <td>0 Rh+</td>\n",
              "      <td>1</td>\n",
              "      <td>Duchenne Musküler Distrofisi, Myastenia gravis...</td>\n",
              "      <td>Fiziksel Tıp Ve Rehabilitasyon,Solunum Merkezi</td>\n",
              "      <td>NaN</td>\n",
              "      <td>Omuzun darbe sendromu,DORSALJİ, DİĞER, SERVİKO...</td>\n",
              "      <td>Dorsalji -Boyun+trapez+skapular</td>\n",
              "      <td>15 Seans</td>\n",
              "      <td>Boyun</td>\n",
              "      <td>20 Dakika</td>\n",
              "    </tr>\n",
              "    <tr>\n",
              "      <th>2</th>\n",
              "      <td>145135</td>\n",
              "      <td>28</td>\n",
              "      <td>Erkek</td>\n",
              "      <td>0 Rh+</td>\n",
              "      <td>1</td>\n",
              "      <td>Duchenne Musküler Distrofisi, Myastenia gravis...</td>\n",
              "      <td>Fiziksel Tıp Ve Rehabilitasyon,Solunum Merkezi</td>\n",
              "      <td>NaN</td>\n",
              "      <td>Omuzun darbe sendromu,DORSALJİ, DİĞER, SERVİKO...</td>\n",
              "      <td>Dorsalji -Boyun+trapez+skapular</td>\n",
              "      <td>15 Seans</td>\n",
              "      <td>Boyun,Sırt</td>\n",
              "      <td>20 Dakika</td>\n",
              "    </tr>\n",
              "    <tr>\n",
              "      <th>3</th>\n",
              "      <td>145135</td>\n",
              "      <td>28</td>\n",
              "      <td>Erkek</td>\n",
              "      <td>0 Rh+</td>\n",
              "      <td>1</td>\n",
              "      <td>Duchenne Musküler Distrofisi, Myastenia gravis...</td>\n",
              "      <td>Fiziksel Tıp Ve Rehabilitasyon,Solunum Merkezi</td>\n",
              "      <td>NaN</td>\n",
              "      <td>Omuzun darbe sendromu,DORSALJİ, DİĞER, SERVİKO...</td>\n",
              "      <td>Dorsalji -Boyun+trapez+skapular</td>\n",
              "      <td>15 Seans</td>\n",
              "      <td>Boyun</td>\n",
              "      <td>5 Dakika</td>\n",
              "    </tr>\n",
              "    <tr>\n",
              "      <th>4</th>\n",
              "      <td>145135</td>\n",
              "      <td>28</td>\n",
              "      <td>Erkek</td>\n",
              "      <td>0 Rh+</td>\n",
              "      <td>1</td>\n",
              "      <td>Duchenne Musküler Distrofisi, Myastenia gravis...</td>\n",
              "      <td>Fiziksel Tıp Ve Rehabilitasyon,Solunum Merkezi</td>\n",
              "      <td>NaN</td>\n",
              "      <td>Omuzun darbe sendromu,DORSALJİ, DİĞER, SERVİKO...</td>\n",
              "      <td>Dorsalji -Boyun+trapez+skapular</td>\n",
              "      <td>15 Seans</td>\n",
              "      <td>Boyun,Sırt</td>\n",
              "      <td>20 Dakika</td>\n",
              "    </tr>\n",
              "  </tbody>\n",
              "</table>\n",
              "</div>\n",
              "    <div class=\"colab-df-buttons\">\n",
              "\n",
              "  <div class=\"colab-df-container\">\n",
              "    <button class=\"colab-df-convert\" onclick=\"convertToInteractive('df-12776d3d-8ed2-4dff-aa04-f2365e528ea0')\"\n",
              "            title=\"Convert this dataframe to an interactive table.\"\n",
              "            style=\"display:none;\">\n",
              "\n",
              "  <svg xmlns=\"http://www.w3.org/2000/svg\" height=\"24px\" viewBox=\"0 -960 960 960\">\n",
              "    <path d=\"M120-120v-720h720v720H120Zm60-500h600v-160H180v160Zm220 220h160v-160H400v160Zm0 220h160v-160H400v160ZM180-400h160v-160H180v160Zm440 0h160v-160H620v160ZM180-180h160v-160H180v160Zm440 0h160v-160H620v160Z\"/>\n",
              "  </svg>\n",
              "    </button>\n",
              "\n",
              "  <style>\n",
              "    .colab-df-container {\n",
              "      display:flex;\n",
              "      gap: 12px;\n",
              "    }\n",
              "\n",
              "    .colab-df-convert {\n",
              "      background-color: #E8F0FE;\n",
              "      border: none;\n",
              "      border-radius: 50%;\n",
              "      cursor: pointer;\n",
              "      display: none;\n",
              "      fill: #1967D2;\n",
              "      height: 32px;\n",
              "      padding: 0 0 0 0;\n",
              "      width: 32px;\n",
              "    }\n",
              "\n",
              "    .colab-df-convert:hover {\n",
              "      background-color: #E2EBFA;\n",
              "      box-shadow: 0px 1px 2px rgba(60, 64, 67, 0.3), 0px 1px 3px 1px rgba(60, 64, 67, 0.15);\n",
              "      fill: #174EA6;\n",
              "    }\n",
              "\n",
              "    .colab-df-buttons div {\n",
              "      margin-bottom: 4px;\n",
              "    }\n",
              "\n",
              "    [theme=dark] .colab-df-convert {\n",
              "      background-color: #3B4455;\n",
              "      fill: #D2E3FC;\n",
              "    }\n",
              "\n",
              "    [theme=dark] .colab-df-convert:hover {\n",
              "      background-color: #434B5C;\n",
              "      box-shadow: 0px 1px 3px 1px rgba(0, 0, 0, 0.15);\n",
              "      filter: drop-shadow(0px 1px 2px rgba(0, 0, 0, 0.3));\n",
              "      fill: #FFFFFF;\n",
              "    }\n",
              "  </style>\n",
              "\n",
              "    <script>\n",
              "      const buttonEl =\n",
              "        document.querySelector('#df-12776d3d-8ed2-4dff-aa04-f2365e528ea0 button.colab-df-convert');\n",
              "      buttonEl.style.display =\n",
              "        google.colab.kernel.accessAllowed ? 'block' : 'none';\n",
              "\n",
              "      async function convertToInteractive(key) {\n",
              "        const element = document.querySelector('#df-12776d3d-8ed2-4dff-aa04-f2365e528ea0');\n",
              "        const dataTable =\n",
              "          await google.colab.kernel.invokeFunction('convertToInteractive',\n",
              "                                                    [key], {});\n",
              "        if (!dataTable) return;\n",
              "\n",
              "        const docLinkHtml = 'Like what you see? Visit the ' +\n",
              "          '<a target=\"_blank\" href=https://colab.research.google.com/notebooks/data_table.ipynb>data table notebook</a>'\n",
              "          + ' to learn more about interactive tables.';\n",
              "        element.innerHTML = '';\n",
              "        dataTable['output_type'] = 'display_data';\n",
              "        await google.colab.output.renderOutput(dataTable, element);\n",
              "        const docLink = document.createElement('div');\n",
              "        docLink.innerHTML = docLinkHtml;\n",
              "        element.appendChild(docLink);\n",
              "      }\n",
              "    </script>\n",
              "  </div>\n",
              "\n",
              "\n",
              "    <div id=\"df-5471f7b1-3888-4d87-8ff7-df79d60aa81a\">\n",
              "      <button class=\"colab-df-quickchart\" onclick=\"quickchart('df-5471f7b1-3888-4d87-8ff7-df79d60aa81a')\"\n",
              "                title=\"Suggest charts\"\n",
              "                style=\"display:none;\">\n",
              "\n",
              "<svg xmlns=\"http://www.w3.org/2000/svg\" height=\"24px\"viewBox=\"0 0 24 24\"\n",
              "     width=\"24px\">\n",
              "    <g>\n",
              "        <path d=\"M19 3H5c-1.1 0-2 .9-2 2v14c0 1.1.9 2 2 2h14c1.1 0 2-.9 2-2V5c0-1.1-.9-2-2-2zM9 17H7v-7h2v7zm4 0h-2V7h2v10zm4 0h-2v-4h2v4z\"/>\n",
              "    </g>\n",
              "</svg>\n",
              "      </button>\n",
              "\n",
              "<style>\n",
              "  .colab-df-quickchart {\n",
              "      --bg-color: #E8F0FE;\n",
              "      --fill-color: #1967D2;\n",
              "      --hover-bg-color: #E2EBFA;\n",
              "      --hover-fill-color: #174EA6;\n",
              "      --disabled-fill-color: #AAA;\n",
              "      --disabled-bg-color: #DDD;\n",
              "  }\n",
              "\n",
              "  [theme=dark] .colab-df-quickchart {\n",
              "      --bg-color: #3B4455;\n",
              "      --fill-color: #D2E3FC;\n",
              "      --hover-bg-color: #434B5C;\n",
              "      --hover-fill-color: #FFFFFF;\n",
              "      --disabled-bg-color: #3B4455;\n",
              "      --disabled-fill-color: #666;\n",
              "  }\n",
              "\n",
              "  .colab-df-quickchart {\n",
              "    background-color: var(--bg-color);\n",
              "    border: none;\n",
              "    border-radius: 50%;\n",
              "    cursor: pointer;\n",
              "    display: none;\n",
              "    fill: var(--fill-color);\n",
              "    height: 32px;\n",
              "    padding: 0;\n",
              "    width: 32px;\n",
              "  }\n",
              "\n",
              "  .colab-df-quickchart:hover {\n",
              "    background-color: var(--hover-bg-color);\n",
              "    box-shadow: 0 1px 2px rgba(60, 64, 67, 0.3), 0 1px 3px 1px rgba(60, 64, 67, 0.15);\n",
              "    fill: var(--button-hover-fill-color);\n",
              "  }\n",
              "\n",
              "  .colab-df-quickchart-complete:disabled,\n",
              "  .colab-df-quickchart-complete:disabled:hover {\n",
              "    background-color: var(--disabled-bg-color);\n",
              "    fill: var(--disabled-fill-color);\n",
              "    box-shadow: none;\n",
              "  }\n",
              "\n",
              "  .colab-df-spinner {\n",
              "    border: 2px solid var(--fill-color);\n",
              "    border-color: transparent;\n",
              "    border-bottom-color: var(--fill-color);\n",
              "    animation:\n",
              "      spin 1s steps(1) infinite;\n",
              "  }\n",
              "\n",
              "  @keyframes spin {\n",
              "    0% {\n",
              "      border-color: transparent;\n",
              "      border-bottom-color: var(--fill-color);\n",
              "      border-left-color: var(--fill-color);\n",
              "    }\n",
              "    20% {\n",
              "      border-color: transparent;\n",
              "      border-left-color: var(--fill-color);\n",
              "      border-top-color: var(--fill-color);\n",
              "    }\n",
              "    30% {\n",
              "      border-color: transparent;\n",
              "      border-left-color: var(--fill-color);\n",
              "      border-top-color: var(--fill-color);\n",
              "      border-right-color: var(--fill-color);\n",
              "    }\n",
              "    40% {\n",
              "      border-color: transparent;\n",
              "      border-right-color: var(--fill-color);\n",
              "      border-top-color: var(--fill-color);\n",
              "    }\n",
              "    60% {\n",
              "      border-color: transparent;\n",
              "      border-right-color: var(--fill-color);\n",
              "    }\n",
              "    80% {\n",
              "      border-color: transparent;\n",
              "      border-right-color: var(--fill-color);\n",
              "      border-bottom-color: var(--fill-color);\n",
              "    }\n",
              "    90% {\n",
              "      border-color: transparent;\n",
              "      border-bottom-color: var(--fill-color);\n",
              "    }\n",
              "  }\n",
              "</style>\n",
              "\n",
              "      <script>\n",
              "        async function quickchart(key) {\n",
              "          const quickchartButtonEl =\n",
              "            document.querySelector('#' + key + ' button');\n",
              "          quickchartButtonEl.disabled = true;  // To prevent multiple clicks.\n",
              "          quickchartButtonEl.classList.add('colab-df-spinner');\n",
              "          try {\n",
              "            const charts = await google.colab.kernel.invokeFunction(\n",
              "                'suggestCharts', [key], {});\n",
              "          } catch (error) {\n",
              "            console.error('Error during call to suggestCharts:', error);\n",
              "          }\n",
              "          quickchartButtonEl.classList.remove('colab-df-spinner');\n",
              "          quickchartButtonEl.classList.add('colab-df-quickchart-complete');\n",
              "        }\n",
              "        (() => {\n",
              "          let quickchartButtonEl =\n",
              "            document.querySelector('#df-5471f7b1-3888-4d87-8ff7-df79d60aa81a button');\n",
              "          quickchartButtonEl.style.display =\n",
              "            google.colab.kernel.accessAllowed ? 'block' : 'none';\n",
              "        })();\n",
              "      </script>\n",
              "    </div>\n",
              "\n",
              "    </div>\n",
              "  </div>\n"
            ],
            "application/vnd.google.colaboratory.intrinsic+json": {
              "type": "dataframe",
              "variable_name": "df",
              "summary": "{\n  \"name\": \"df\",\n  \"rows\": 2235,\n  \"fields\": [\n    {\n      \"column\": \"HastaNo\",\n      \"properties\": {\n        \"dtype\": \"number\",\n        \"std\": 115,\n        \"min\": 145134,\n        \"max\": 145537,\n        \"num_unique_values\": 404,\n        \"samples\": [\n          145204,\n          145352,\n          145518\n        ],\n        \"semantic_type\": \"\",\n        \"description\": \"\"\n      }\n    },\n    {\n      \"column\": \"Yas\",\n      \"properties\": {\n        \"dtype\": \"number\",\n        \"std\": 15,\n        \"min\": 2,\n        \"max\": 92,\n        \"num_unique_values\": 75,\n        \"samples\": [\n          52,\n          21,\n          77\n        ],\n        \"semantic_type\": \"\",\n        \"description\": \"\"\n      }\n    },\n    {\n      \"column\": \"Cinsiyet\",\n      \"properties\": {\n        \"dtype\": \"category\",\n        \"num_unique_values\": 2,\n        \"samples\": [\n          \"Erkek\",\n          \"Kad\\u0131n\"\n        ],\n        \"semantic_type\": \"\",\n        \"description\": \"\"\n      }\n    },\n    {\n      \"column\": \"KanGrubu\",\n      \"properties\": {\n        \"dtype\": \"category\",\n        \"num_unique_values\": 8,\n        \"samples\": [\n          \"A Rh+\",\n          \"A Rh-\"\n        ],\n        \"semantic_type\": \"\",\n        \"description\": \"\"\n      }\n    },\n    {\n      \"column\": \"Uyruk\",\n      \"properties\": {\n        \"dtype\": \"number\",\n        \"std\": 0,\n        \"min\": 0,\n        \"max\": 1,\n        \"num_unique_values\": 2,\n        \"samples\": [\n          0,\n          1\n        ],\n        \"semantic_type\": \"\",\n        \"description\": \"\"\n      }\n    },\n    {\n      \"column\": \"KronikHastalik\",\n      \"properties\": {\n        \"dtype\": \"category\",\n        \"num_unique_values\": 220,\n        \"samples\": [\n          \"Limb-Girdle Musk\\u00fcler Distrofi, Ast\\u0131m, Hipertansiyon\",\n          \"Fascioscapulohumeral Distrofi, Myastenia gravis\"\n        ],\n        \"semantic_type\": \"\",\n        \"description\": \"\"\n      }\n    },\n    {\n      \"column\": \"Bolum\",\n      \"properties\": {\n        \"dtype\": \"category\",\n        \"num_unique_values\": 10,\n        \"samples\": [\n          \"N\\u00f6roloji\",\n          \"\\u0130\\u00e7 Hastal\\u0131klar\\u0131\"\n        ],\n        \"semantic_type\": \"\",\n        \"description\": \"\"\n      }\n    },\n    {\n      \"column\": \"Alerji\",\n      \"properties\": {\n        \"dtype\": \"category\",\n        \"num_unique_values\": 38,\n        \"samples\": [\n          \"Volteren,GR\\u0130P\\u0130N\",\n          \"Voltaren,POLEN\"\n        ],\n        \"semantic_type\": \"\",\n        \"description\": \"\"\n      }\n    },\n    {\n      \"column\": \"Tanilar\",\n      \"properties\": {\n        \"dtype\": \"category\",\n        \"num_unique_values\": 367,\n        \"samples\": [\n          \"\\u0130ntervertebral disk bozukluklar\\u0131, tan\\u0131mlanmam\\u0131\\u015f,Karpal t\\u00fcnel sendromu\",\n          \"DORSALJ\\u0130, D\\u0130\\u011eER, B\\u0130RDEN FAZLA YER, VERTEBRADA\"\n        ],\n        \"semantic_type\": \"\",\n        \"description\": \"\"\n      }\n    },\n    {\n      \"column\": \"TedaviAdi\",\n      \"properties\": {\n        \"dtype\": \"category\",\n        \"num_unique_values\": 244,\n        \"samples\": [\n          \"Y\\u00fcr\\u00fcme\",\n          \"Gonartroz-Meniskopati\"\n        ],\n        \"semantic_type\": \"\",\n        \"description\": \"\"\n      }\n    },\n    {\n      \"column\": \"TedaviSuresi\",\n      \"properties\": {\n        \"dtype\": \"category\",\n        \"num_unique_values\": 23,\n        \"samples\": [\n          \"7 Seans\",\n          \"11 Seans\"\n        ],\n        \"semantic_type\": \"\",\n        \"description\": \"\"\n      }\n    },\n    {\n      \"column\": \"UygulamaYerleri\",\n      \"properties\": {\n        \"dtype\": \"category\",\n        \"num_unique_values\": 37,\n        \"samples\": [\n          \"Omuz\",\n          \"Sol Diz B\\u00f6lgesi\"\n        ],\n        \"semantic_type\": \"\",\n        \"description\": \"\"\n      }\n    },\n    {\n      \"column\": \"UygulamaSuresi\",\n      \"properties\": {\n        \"dtype\": \"category\",\n        \"num_unique_values\": 10,\n        \"samples\": [\n          \"40 Dakika\",\n          \"5 Dakika\"\n        ],\n        \"semantic_type\": \"\",\n        \"description\": \"\"\n      }\n    }\n  ]\n}"
            }
          },
          "metadata": {},
          "execution_count": 13
        }
      ]
    },
    {
      "cell_type": "code",
      "source": [
        "df['Uyruk'].value_counts()"
      ],
      "metadata": {
        "colab": {
          "base_uri": "https://localhost:8080/",
          "height": 178
        },
        "id": "aCc5ihdL1ZkP",
        "outputId": "1ad7f87f-a280-46af-cf34-e87f8cea9af8"
      },
      "execution_count": 14,
      "outputs": [
        {
          "output_type": "execute_result",
          "data": {
            "text/plain": [
              "Uyruk\n",
              "1    2173\n",
              "0      62\n",
              "Name: count, dtype: int64"
            ],
            "text/html": [
              "<div>\n",
              "<style scoped>\n",
              "    .dataframe tbody tr th:only-of-type {\n",
              "        vertical-align: middle;\n",
              "    }\n",
              "\n",
              "    .dataframe tbody tr th {\n",
              "        vertical-align: top;\n",
              "    }\n",
              "\n",
              "    .dataframe thead th {\n",
              "        text-align: right;\n",
              "    }\n",
              "</style>\n",
              "<table border=\"1\" class=\"dataframe\">\n",
              "  <thead>\n",
              "    <tr style=\"text-align: right;\">\n",
              "      <th></th>\n",
              "      <th>count</th>\n",
              "    </tr>\n",
              "    <tr>\n",
              "      <th>Uyruk</th>\n",
              "      <th></th>\n",
              "    </tr>\n",
              "  </thead>\n",
              "  <tbody>\n",
              "    <tr>\n",
              "      <th>1</th>\n",
              "      <td>2173</td>\n",
              "    </tr>\n",
              "    <tr>\n",
              "      <th>0</th>\n",
              "      <td>62</td>\n",
              "    </tr>\n",
              "  </tbody>\n",
              "</table>\n",
              "</div><br><label><b>dtype:</b> int64</label>"
            ]
          },
          "metadata": {},
          "execution_count": 14
        }
      ]
    },
    {
      "cell_type": "code",
      "source": [
        "df['KronikHastalik'].value_counts()"
      ],
      "metadata": {
        "colab": {
          "base_uri": "https://localhost:8080/",
          "height": 490
        },
        "collapsed": true,
        "id": "sqDhHn8n_gYJ",
        "outputId": "bf328d65-586a-40ac-bd85-b6e89f348854"
      },
      "execution_count": 15,
      "outputs": [
        {
          "output_type": "execute_result",
          "data": {
            "text/plain": [
              "KronikHastalik\n",
              "Myastenia gravis                                                                38\n",
              "Aritmi                                                                          36\n",
              "Fascioscapulohumeral Distrofi                                                   36\n",
              "Hipertiroidizm                                                                  34\n",
              "Limb-Girdle Musküler Distrofi, Astım                                            34\n",
              "                                                                                ..\n",
              "Fascioscapulohumeral Distrofi, Myastenia gravis                                  1\n",
              "Polimiyozit, Aritmi, Hiportiroidizm                                              1\n",
              "Aritmi, Diyabet, Kalp yetmezliği, Hiportiroidizm                                 1\n",
              "Polimiyozit, Diyabet, Becker Musküler Distrofisi                                 1\n",
              "Fascioscapulohumeral Distrofi, Hiportiroidizm, Limb-Girdle Musküler Distrofi     1\n",
              "Name: count, Length: 220, dtype: int64"
            ],
            "text/html": [
              "<div>\n",
              "<style scoped>\n",
              "    .dataframe tbody tr th:only-of-type {\n",
              "        vertical-align: middle;\n",
              "    }\n",
              "\n",
              "    .dataframe tbody tr th {\n",
              "        vertical-align: top;\n",
              "    }\n",
              "\n",
              "    .dataframe thead th {\n",
              "        text-align: right;\n",
              "    }\n",
              "</style>\n",
              "<table border=\"1\" class=\"dataframe\">\n",
              "  <thead>\n",
              "    <tr style=\"text-align: right;\">\n",
              "      <th></th>\n",
              "      <th>count</th>\n",
              "    </tr>\n",
              "    <tr>\n",
              "      <th>KronikHastalik</th>\n",
              "      <th></th>\n",
              "    </tr>\n",
              "  </thead>\n",
              "  <tbody>\n",
              "    <tr>\n",
              "      <th>Myastenia gravis</th>\n",
              "      <td>38</td>\n",
              "    </tr>\n",
              "    <tr>\n",
              "      <th>Aritmi</th>\n",
              "      <td>36</td>\n",
              "    </tr>\n",
              "    <tr>\n",
              "      <th>Fascioscapulohumeral Distrofi</th>\n",
              "      <td>36</td>\n",
              "    </tr>\n",
              "    <tr>\n",
              "      <th>Hipertiroidizm</th>\n",
              "      <td>34</td>\n",
              "    </tr>\n",
              "    <tr>\n",
              "      <th>Limb-Girdle Musküler Distrofi, Astım</th>\n",
              "      <td>34</td>\n",
              "    </tr>\n",
              "    <tr>\n",
              "      <th>...</th>\n",
              "      <td>...</td>\n",
              "    </tr>\n",
              "    <tr>\n",
              "      <th>Fascioscapulohumeral Distrofi, Myastenia gravis</th>\n",
              "      <td>1</td>\n",
              "    </tr>\n",
              "    <tr>\n",
              "      <th>Polimiyozit, Aritmi, Hiportiroidizm</th>\n",
              "      <td>1</td>\n",
              "    </tr>\n",
              "    <tr>\n",
              "      <th>Aritmi, Diyabet, Kalp yetmezliği, Hiportiroidizm</th>\n",
              "      <td>1</td>\n",
              "    </tr>\n",
              "    <tr>\n",
              "      <th>Polimiyozit, Diyabet, Becker Musküler Distrofisi</th>\n",
              "      <td>1</td>\n",
              "    </tr>\n",
              "    <tr>\n",
              "      <th>Fascioscapulohumeral Distrofi, Hiportiroidizm, Limb-Girdle Musküler Distrofi</th>\n",
              "      <td>1</td>\n",
              "    </tr>\n",
              "  </tbody>\n",
              "</table>\n",
              "<p>220 rows × 1 columns</p>\n",
              "</div><br><label><b>dtype:</b> int64</label>"
            ]
          },
          "metadata": {},
          "execution_count": 15
        }
      ]
    },
    {
      "cell_type": "code",
      "source": [
        "unique_diseases = set(\n",
        "    disease.strip()\n",
        "    for row in df[\"KronikHastalik\"].dropna()\n",
        "    for disease in row.split(\",\")\n",
        ")\n",
        "df[\"KronikHastalik\"] = df[\"KronikHastalik\"].str.replace(\"Hiportiroidizm\", \"Hipotirodizm\", case=False)\n",
        "print(\"Farklı hastalık sayısı:\", len(unique_diseases))\n",
        "print(\"Hastalık listesi:\", unique_diseases)"
      ],
      "metadata": {
        "colab": {
          "base_uri": "https://localhost:8080/"
        },
        "id": "aBoMdXBNACIA",
        "outputId": "ada342ec-3152-43a6-ea2a-bb4d7702420c"
      },
      "execution_count": 16,
      "outputs": [
        {
          "output_type": "stream",
          "name": "stdout",
          "text": [
            "Farklı hastalık sayısı: 15\n",
            "Hastalık listesi: {'Hiportiroidizm', 'Hipotirodizm', 'Fascioscapulohumeral Distrofi', 'Myastenia gravis', 'Diyabet', 'Hipertansiyon', 'Hipertiroidizm', 'Limb-Girdle Musküler Distrofi', 'Duchenne Musküler Distrofisi', 'Polimiyozit', 'Becker Musküler Distrofisi', 'Guatr', 'Aritmi', 'Kalp yetmezliği', 'Astım'}\n"
          ]
        }
      ]
    },
    {
      "cell_type": "code",
      "source": [
        "df['Bolum'].value_counts()"
      ],
      "metadata": {
        "colab": {
          "base_uri": "https://localhost:8080/",
          "height": 429
        },
        "id": "-FK0eppXCwjs",
        "outputId": "27a10982-4c1a-478c-8d7d-e59f123bc94c",
        "collapsed": true
      },
      "execution_count": 17,
      "outputs": [
        {
          "output_type": "execute_result",
          "data": {
            "text/plain": [
              "Bolum\n",
              "Fiziksel Tıp Ve Rehabilitasyon,Solunum Merkezi    2045\n",
              "Ortopedi Ve Travmatoloji                            88\n",
              "İç Hastalıkları                                     32\n",
              "Nöroloji                                            17\n",
              "Kardiyoloji                                         11\n",
              "Göğüs Hastalıkları                                   8\n",
              "Laboratuar                                           7\n",
              "Genel Cerrahi                                        6\n",
              "Tıbbi Onkoloji                                       6\n",
              "Kalp Ve Damar Cerrahisi                              4\n",
              "Name: count, dtype: int64"
            ],
            "text/html": [
              "<div>\n",
              "<style scoped>\n",
              "    .dataframe tbody tr th:only-of-type {\n",
              "        vertical-align: middle;\n",
              "    }\n",
              "\n",
              "    .dataframe tbody tr th {\n",
              "        vertical-align: top;\n",
              "    }\n",
              "\n",
              "    .dataframe thead th {\n",
              "        text-align: right;\n",
              "    }\n",
              "</style>\n",
              "<table border=\"1\" class=\"dataframe\">\n",
              "  <thead>\n",
              "    <tr style=\"text-align: right;\">\n",
              "      <th></th>\n",
              "      <th>count</th>\n",
              "    </tr>\n",
              "    <tr>\n",
              "      <th>Bolum</th>\n",
              "      <th></th>\n",
              "    </tr>\n",
              "  </thead>\n",
              "  <tbody>\n",
              "    <tr>\n",
              "      <th>Fiziksel Tıp Ve Rehabilitasyon,Solunum Merkezi</th>\n",
              "      <td>2045</td>\n",
              "    </tr>\n",
              "    <tr>\n",
              "      <th>Ortopedi Ve Travmatoloji</th>\n",
              "      <td>88</td>\n",
              "    </tr>\n",
              "    <tr>\n",
              "      <th>İç Hastalıkları</th>\n",
              "      <td>32</td>\n",
              "    </tr>\n",
              "    <tr>\n",
              "      <th>Nöroloji</th>\n",
              "      <td>17</td>\n",
              "    </tr>\n",
              "    <tr>\n",
              "      <th>Kardiyoloji</th>\n",
              "      <td>11</td>\n",
              "    </tr>\n",
              "    <tr>\n",
              "      <th>Göğüs Hastalıkları</th>\n",
              "      <td>8</td>\n",
              "    </tr>\n",
              "    <tr>\n",
              "      <th>Laboratuar</th>\n",
              "      <td>7</td>\n",
              "    </tr>\n",
              "    <tr>\n",
              "      <th>Genel Cerrahi</th>\n",
              "      <td>6</td>\n",
              "    </tr>\n",
              "    <tr>\n",
              "      <th>Tıbbi Onkoloji</th>\n",
              "      <td>6</td>\n",
              "    </tr>\n",
              "    <tr>\n",
              "      <th>Kalp Ve Damar Cerrahisi</th>\n",
              "      <td>4</td>\n",
              "    </tr>\n",
              "  </tbody>\n",
              "</table>\n",
              "</div><br><label><b>dtype:</b> int64</label>"
            ]
          },
          "metadata": {},
          "execution_count": 17
        }
      ]
    },
    {
      "cell_type": "code",
      "source": [
        "unique_diseases = set(\n",
        "    disease.strip()\n",
        "    for row in df[\"Bolum\"].dropna()\n",
        "    for disease in row.split(\",\")\n",
        ")\n",
        "\n",
        "print(\"Farklı bölüm sayısı:\", len(unique_diseases))\n",
        "print(\"Bölüm listesi:\", unique_diseases)"
      ],
      "metadata": {
        "colab": {
          "base_uri": "https://localhost:8080/"
        },
        "id": "B_I6SHovDskU",
        "outputId": "073fb0c5-6059-4108-e6df-a17f9eafaa8c"
      },
      "execution_count": 18,
      "outputs": [
        {
          "output_type": "stream",
          "name": "stdout",
          "text": [
            "Farklı bölüm sayısı: 11\n",
            "Bölüm listesi: {'Genel Cerrahi', 'Fiziksel Tıp Ve Rehabilitasyon', 'Ortopedi Ve Travmatoloji', 'Kalp Ve Damar Cerrahisi', 'Tıbbi Onkoloji', 'Laboratuar', 'Kardiyoloji', 'İç Hastalıkları', 'Nöroloji', 'Solunum Merkezi', 'Göğüs Hastalıkları'}\n"
          ]
        }
      ]
    },
    {
      "cell_type": "code",
      "source": [
        "df['Alerji'].value_counts()"
      ],
      "metadata": {
        "colab": {
          "base_uri": "https://localhost:8080/",
          "height": 1000
        },
        "id": "tM3yTVwKEjKa",
        "outputId": "1a9a6ad2-b01e-4705-ddc2-daca06d68371",
        "collapsed": true
      },
      "execution_count": 19,
      "outputs": [
        {
          "output_type": "execute_result",
          "data": {
            "text/plain": [
              "Alerji\n",
              "Polen                198\n",
              "POLEN                134\n",
              "Toz                  119\n",
              "ARVELES,CORASPIN     102\n",
              "Sucuk                 91\n",
              "NOVALGIN              90\n",
              "Polen,Yer Fıstığı     83\n",
              "TOZ                   74\n",
              "SUCUK                 73\n",
              "Novalgin              49\n",
              "GRİPİN                47\n",
              "Volteren              30\n",
              "Voltaren              26\n",
              "GRIPIN                22\n",
              "VOLTAREN              19\n",
              "POLEN,TOZ             13\n",
              "VOLTAREN,Polen        11\n",
              "Toz,TOZ                9\n",
              "Polen,NOVALGIN         7\n",
              "TOZ,Novalgin           7\n",
              "Novalgin,Polen         6\n",
              "VOLTAREN,POLEN         5\n",
              "Volteren,GRİPİN        5\n",
              "SUCUK,GRIPIN           5\n",
              "TOZ,POLEN              5\n",
              "NOVALGIN,Novalgin      5\n",
              "VOLTAREN,Toz           5\n",
              "Polen,Toz              5\n",
              "Polen,TOZ              5\n",
              "Novalgin,Sucuk         5\n",
              "Voltaren,POLEN         5\n",
              "NOVALGIN,Polen         5\n",
              "Polen,GRIPIN           5\n",
              "POLEN,Voltaren         5\n",
              "Polen,Voltaren         5\n",
              "TOZ,VOLTAREN           5\n",
              "POLEN,NOVALGIN         3\n",
              "TOZ,GRİPİN             3\n",
              "Name: count, dtype: int64"
            ],
            "text/html": [
              "<div>\n",
              "<style scoped>\n",
              "    .dataframe tbody tr th:only-of-type {\n",
              "        vertical-align: middle;\n",
              "    }\n",
              "\n",
              "    .dataframe tbody tr th {\n",
              "        vertical-align: top;\n",
              "    }\n",
              "\n",
              "    .dataframe thead th {\n",
              "        text-align: right;\n",
              "    }\n",
              "</style>\n",
              "<table border=\"1\" class=\"dataframe\">\n",
              "  <thead>\n",
              "    <tr style=\"text-align: right;\">\n",
              "      <th></th>\n",
              "      <th>count</th>\n",
              "    </tr>\n",
              "    <tr>\n",
              "      <th>Alerji</th>\n",
              "      <th></th>\n",
              "    </tr>\n",
              "  </thead>\n",
              "  <tbody>\n",
              "    <tr>\n",
              "      <th>Polen</th>\n",
              "      <td>198</td>\n",
              "    </tr>\n",
              "    <tr>\n",
              "      <th>POLEN</th>\n",
              "      <td>134</td>\n",
              "    </tr>\n",
              "    <tr>\n",
              "      <th>Toz</th>\n",
              "      <td>119</td>\n",
              "    </tr>\n",
              "    <tr>\n",
              "      <th>ARVELES,CORASPIN</th>\n",
              "      <td>102</td>\n",
              "    </tr>\n",
              "    <tr>\n",
              "      <th>Sucuk</th>\n",
              "      <td>91</td>\n",
              "    </tr>\n",
              "    <tr>\n",
              "      <th>NOVALGIN</th>\n",
              "      <td>90</td>\n",
              "    </tr>\n",
              "    <tr>\n",
              "      <th>Polen,Yer Fıstığı</th>\n",
              "      <td>83</td>\n",
              "    </tr>\n",
              "    <tr>\n",
              "      <th>TOZ</th>\n",
              "      <td>74</td>\n",
              "    </tr>\n",
              "    <tr>\n",
              "      <th>SUCUK</th>\n",
              "      <td>73</td>\n",
              "    </tr>\n",
              "    <tr>\n",
              "      <th>Novalgin</th>\n",
              "      <td>49</td>\n",
              "    </tr>\n",
              "    <tr>\n",
              "      <th>GRİPİN</th>\n",
              "      <td>47</td>\n",
              "    </tr>\n",
              "    <tr>\n",
              "      <th>Volteren</th>\n",
              "      <td>30</td>\n",
              "    </tr>\n",
              "    <tr>\n",
              "      <th>Voltaren</th>\n",
              "      <td>26</td>\n",
              "    </tr>\n",
              "    <tr>\n",
              "      <th>GRIPIN</th>\n",
              "      <td>22</td>\n",
              "    </tr>\n",
              "    <tr>\n",
              "      <th>VOLTAREN</th>\n",
              "      <td>19</td>\n",
              "    </tr>\n",
              "    <tr>\n",
              "      <th>POLEN,TOZ</th>\n",
              "      <td>13</td>\n",
              "    </tr>\n",
              "    <tr>\n",
              "      <th>VOLTAREN,Polen</th>\n",
              "      <td>11</td>\n",
              "    </tr>\n",
              "    <tr>\n",
              "      <th>Toz,TOZ</th>\n",
              "      <td>9</td>\n",
              "    </tr>\n",
              "    <tr>\n",
              "      <th>Polen,NOVALGIN</th>\n",
              "      <td>7</td>\n",
              "    </tr>\n",
              "    <tr>\n",
              "      <th>TOZ,Novalgin</th>\n",
              "      <td>7</td>\n",
              "    </tr>\n",
              "    <tr>\n",
              "      <th>Novalgin,Polen</th>\n",
              "      <td>6</td>\n",
              "    </tr>\n",
              "    <tr>\n",
              "      <th>VOLTAREN,POLEN</th>\n",
              "      <td>5</td>\n",
              "    </tr>\n",
              "    <tr>\n",
              "      <th>Volteren,GRİPİN</th>\n",
              "      <td>5</td>\n",
              "    </tr>\n",
              "    <tr>\n",
              "      <th>SUCUK,GRIPIN</th>\n",
              "      <td>5</td>\n",
              "    </tr>\n",
              "    <tr>\n",
              "      <th>TOZ,POLEN</th>\n",
              "      <td>5</td>\n",
              "    </tr>\n",
              "    <tr>\n",
              "      <th>NOVALGIN,Novalgin</th>\n",
              "      <td>5</td>\n",
              "    </tr>\n",
              "    <tr>\n",
              "      <th>VOLTAREN,Toz</th>\n",
              "      <td>5</td>\n",
              "    </tr>\n",
              "    <tr>\n",
              "      <th>Polen,Toz</th>\n",
              "      <td>5</td>\n",
              "    </tr>\n",
              "    <tr>\n",
              "      <th>Polen,TOZ</th>\n",
              "      <td>5</td>\n",
              "    </tr>\n",
              "    <tr>\n",
              "      <th>Novalgin,Sucuk</th>\n",
              "      <td>5</td>\n",
              "    </tr>\n",
              "    <tr>\n",
              "      <th>Voltaren,POLEN</th>\n",
              "      <td>5</td>\n",
              "    </tr>\n",
              "    <tr>\n",
              "      <th>NOVALGIN,Polen</th>\n",
              "      <td>5</td>\n",
              "    </tr>\n",
              "    <tr>\n",
              "      <th>Polen,GRIPIN</th>\n",
              "      <td>5</td>\n",
              "    </tr>\n",
              "    <tr>\n",
              "      <th>POLEN,Voltaren</th>\n",
              "      <td>5</td>\n",
              "    </tr>\n",
              "    <tr>\n",
              "      <th>Polen,Voltaren</th>\n",
              "      <td>5</td>\n",
              "    </tr>\n",
              "    <tr>\n",
              "      <th>TOZ,VOLTAREN</th>\n",
              "      <td>5</td>\n",
              "    </tr>\n",
              "    <tr>\n",
              "      <th>POLEN,NOVALGIN</th>\n",
              "      <td>3</td>\n",
              "    </tr>\n",
              "    <tr>\n",
              "      <th>TOZ,GRİPİN</th>\n",
              "      <td>3</td>\n",
              "    </tr>\n",
              "  </tbody>\n",
              "</table>\n",
              "</div><br><label><b>dtype:</b> int64</label>"
            ]
          },
          "metadata": {},
          "execution_count": 19
        }
      ]
    },
    {
      "cell_type": "code",
      "source": [
        "df[\"Alerji\"] = df[\"Alerji\"].str.replace(\"Novalgin\", \"NOVALGIN\", case=False)\n",
        "df[\"Alerji\"] = df[\"Alerji\"].str.replace(\"SUCUK\", \"Sucuk\", case=False)\n",
        "df[\"Alerji\"] = df[\"Alerji\"].str.replace(\"Polen\", \"POLEN\", case=False)\n",
        "df[\"Alerji\"] = df[\"Alerji\"].str.replace(\"GRİPİN\", \"GRIPIN\", case=False)\n",
        "df[\"Alerji\"] = df[\"Alerji\"].str.replace(\"Voltaren\", \"VOLTAREN\", case=False)\n",
        "df[\"Alerji\"] = df[\"Alerji\"].str.replace(\"Volteren\", \"VOLTAREN\", case=False)\n",
        "\n",
        "df[\"Alerji\"] = df[\"Alerji\"].str.replace(\"Toz\", \"TOZ\", case=False)\n",
        "\n",
        "unique_diseases = set(\n",
        "    disease.strip()\n",
        "    for row in df[\"Alerji\"].dropna()\n",
        "    for disease in row.split(\",\")\n",
        ")\n",
        "\n",
        "print(\"Farklı alerji sayısı:\", len(unique_diseases))\n",
        "print(\"Alerji listesi:\", unique_diseases)"
      ],
      "metadata": {
        "colab": {
          "base_uri": "https://localhost:8080/"
        },
        "id": "yslP2LnDFKbd",
        "outputId": "d7e9c7d3-671c-40ca-c4b7-5375d52e4ce4"
      },
      "execution_count": 20,
      "outputs": [
        {
          "output_type": "stream",
          "name": "stdout",
          "text": [
            "Farklı alerji sayısı: 9\n",
            "Alerji listesi: {'GRIPIN', 'Sucuk', 'CORASPIN', 'TOZ', 'NOVALGIN', 'Yer Fıstığı', 'POLEN', 'VOLTAREN', 'ARVELES'}\n"
          ]
        }
      ]
    },
    {
      "cell_type": "code",
      "source": [
        "df['Tanilar'].value_counts()"
      ],
      "metadata": {
        "colab": {
          "base_uri": "https://localhost:8080/",
          "height": 490
        },
        "collapsed": true,
        "id": "1tbJeCCQK6ID",
        "outputId": "d132d680-4632-457c-bc5b-7c34eb5400d0"
      },
      "execution_count": 21,
      "outputs": [
        {
          "output_type": "execute_result",
          "data": {
            "text/plain": [
              "Tanilar\n",
              "DORSALJİ, DİĞER, LUMBOSAKRAL BÖLGE                                         149\n",
              "Omuzun darbe sendromu                                                      128\n",
              "İntervertebral disk bozuklukları, tanımlanmamış                            116\n",
              "DORSALJİ, DİĞER, SERVİKOTORASİK BÖLGE                                       96\n",
              "Eklem ağrısı                                                                51\n",
              "                                                                          ... \n",
              "Kas bozuklukları,, başka yerde sınıflanmış hastalıklarda, Spinal stenoz      1\n",
              "Menisküs yırtığı, şimdiki ,Kondromalazia patella                             1\n",
              "Omuzun darbe sendromu,Menisküs yırtığı, şimdiki                              1\n",
              "Ayak bileği ve ayağın yüzeysel yaralanması                                   1\n",
              "Aşil tendon yaralanması,​Algonörodistrofi,​ ayak ve ayak bileği              1\n",
              "Name: count, Length: 367, dtype: int64"
            ],
            "text/html": [
              "<div>\n",
              "<style scoped>\n",
              "    .dataframe tbody tr th:only-of-type {\n",
              "        vertical-align: middle;\n",
              "    }\n",
              "\n",
              "    .dataframe tbody tr th {\n",
              "        vertical-align: top;\n",
              "    }\n",
              "\n",
              "    .dataframe thead th {\n",
              "        text-align: right;\n",
              "    }\n",
              "</style>\n",
              "<table border=\"1\" class=\"dataframe\">\n",
              "  <thead>\n",
              "    <tr style=\"text-align: right;\">\n",
              "      <th></th>\n",
              "      <th>count</th>\n",
              "    </tr>\n",
              "    <tr>\n",
              "      <th>Tanilar</th>\n",
              "      <th></th>\n",
              "    </tr>\n",
              "  </thead>\n",
              "  <tbody>\n",
              "    <tr>\n",
              "      <th>DORSALJİ, DİĞER, LUMBOSAKRAL BÖLGE</th>\n",
              "      <td>149</td>\n",
              "    </tr>\n",
              "    <tr>\n",
              "      <th>Omuzun darbe sendromu</th>\n",
              "      <td>128</td>\n",
              "    </tr>\n",
              "    <tr>\n",
              "      <th>İntervertebral disk bozuklukları, tanımlanmamış</th>\n",
              "      <td>116</td>\n",
              "    </tr>\n",
              "    <tr>\n",
              "      <th>DORSALJİ, DİĞER, SERVİKOTORASİK BÖLGE</th>\n",
              "      <td>96</td>\n",
              "    </tr>\n",
              "    <tr>\n",
              "      <th>Eklem ağrısı</th>\n",
              "      <td>51</td>\n",
              "    </tr>\n",
              "    <tr>\n",
              "      <th>...</th>\n",
              "      <td>...</td>\n",
              "    </tr>\n",
              "    <tr>\n",
              "      <th>Kas bozuklukları,, başka yerde sınıflanmış hastalıklarda, Spinal stenoz</th>\n",
              "      <td>1</td>\n",
              "    </tr>\n",
              "    <tr>\n",
              "      <th>Menisküs yırtığı, şimdiki ,Kondromalazia patella</th>\n",
              "      <td>1</td>\n",
              "    </tr>\n",
              "    <tr>\n",
              "      <th>Omuzun darbe sendromu,Menisküs yırtığı, şimdiki</th>\n",
              "      <td>1</td>\n",
              "    </tr>\n",
              "    <tr>\n",
              "      <th>Ayak bileği ve ayağın yüzeysel yaralanması</th>\n",
              "      <td>1</td>\n",
              "    </tr>\n",
              "    <tr>\n",
              "      <th>Aşil tendon yaralanması,​Algonörodistrofi,​ ayak ve ayak bileği</th>\n",
              "      <td>1</td>\n",
              "    </tr>\n",
              "  </tbody>\n",
              "</table>\n",
              "<p>367 rows × 1 columns</p>\n",
              "</div><br><label><b>dtype:</b> int64</label>"
            ]
          },
          "metadata": {},
          "execution_count": 21
        }
      ]
    },
    {
      "cell_type": "code",
      "source": [
        "import re\n",
        "\n",
        "def normalize(text):\n",
        "    if not isinstance(text, str) or text.strip() == \"\":\n",
        "        return \"diğer\"\n",
        "\n",
        "    text = text.lower().strip()\n",
        "\n",
        "    text = re.sub(r\"[\\u200b\\u200d\\u00ad\\u00a0_\\x00-\\x1f]\", \"\", text)\n",
        "    return text\n",
        "\n",
        "df[\"tanilar_norm\"] = df[\"Tanilar\"].apply(normalize)\n",
        "\n",
        "\n",
        "unique_diseases = set(\n",
        "    disease.strip()\n",
        "    for row in df[\"Tanilar\"].dropna()\n",
        "    for disease in row.split(\",\")\n",
        ")\n",
        "\n",
        "print(\"Farklı tanı sayısı:\", len(unique_diseases))\n",
        "print(\"Tanı listesi:\", unique_diseases)"
      ],
      "metadata": {
        "colab": {
          "base_uri": "https://localhost:8080/"
        },
        "id": "Q0qV8HmXLObU",
        "outputId": "8652d38f-5217-4ea4-c6e6-205c98368e48"
      },
      "execution_count": 22,
      "outputs": [
        {
          "output_type": "stream",
          "name": "stdout",
          "text": [
            "Farklı tanı sayısı: 294\n",
            "Tanı listesi: {'', 'Koksartro\\u200dz', 'Medial epikondilit', '\\u200bPnömoni', 'İntrehepatik safra yolu karsinomu', 'HEMARTROZ', 'Karaciğer nakli', 'SAKRAL VE SAKROKOKSİGEAL BÖLGE', 'Epilepsi', 'Femurun longitudinal redüksiyon defekti', 'Dorsalji', 'Trokanterik bursit', 'Üriner sistemin diğer bozuklukları', 'SERV\\xadİKOTORASİK BÖLGE', '\\u200bEklem ağrısı', 'Osteoporoz', 'Juvenil ve adölesan idiopatik skolyoz', 'Beyincik malign neoplazmı', 'hemoraji veya enfarktüs olarak tanımlanmamış', 'Ayak bileği ve ayağın diğer ve tanımlanmamış yaralanmaları', 'Birinci karpometakarpal eklemin artrozu', 'Kasın diğer bozuklukları', '\\u200bKarın ağrısı diğer ve tanımlanmamış', 'Fobik anksiyete bozukluğu', 'Patellanın rekürren sublüksasyonu', 'Ekstremite ağrısı', 'Parmak diğer kırığı', 'Halluks valgus (kazanılmış)', 'Serebrovasküler hastalıklar', 'Biseps diğer kısımlarının kas ve tendon yaralanması', 'Aterosklerotik kardiyovasküler hastalık', '\\u200b diğer', 'di̇ğer', 'Gonartroz [diz ekleminin artrozu]', 'Kifoz ve lordoz', 'bacak', 'Lenfödem', 'Baş ağrısı', 'Mesanenin diğer bozuklukları', 'Parmak (lar)ın deformitesi', 'DİĞER', 'Solunum bozuklukları', 'yeri tanımlanmamış', 'Kasın diğer rüptürü (travmatik olmayan)', 'Saf hiperkolesterolemi', 'demans üzerine eklenmeyen', 'Patellofemoral bozukluklar', 'Spondiloz', 'Miyopatiler', 'Kronik böbrek yetmezliği', 'SERVİKOTORASİK BÖLGE', 'Lomber vertebra ve pelvis eklem ve ligamentlerinin çıkık', 'kolanjit veya kolesistit olmadan', '\\xadDİĞER', 'Temporomandibüler eklem bozuklukları', 'Ayak bileği ve ayak düzeyinde derin peroneal sinir yaralanması', 'Postural kifoz', '\\u200bLateral epikondilit', 'Sekonder koksartroz', 'Metatarsalji', \"'DORSALJİ\", 'Ayak bileği ve ayak düzeyinde eklem ve ligamentlerin çıkık', 'Olekranon bursiti', 'Meme malign neoplazmı', 'Kısa aşil tendonu (kazanılmış)', 'LUMBOSAKRAL BÖLGE', 'Üriner inkontinans', 'kol', 'Sakroiliit', '\\u200b tanımlanmış virüs', 'Lumbar ve diğer intervertebral disk bozuklukları', 'Karın ağrısı diğer ve tanımlanmamış', 'BİRDEN FAZLA YER', 'demans üzerine eklenen', 'tanımlanmamış organizmalar', 'Fibromiyalji', 'Menisküs yırtığı', 'Safra yolu taşı', 'Safra taşı', 'Lateral mall\\u200deol kırığı', 'hemoraji veya perforasyon yok', 'OMUZUN DARBE SENDROMU', 'Serebrovasküler hastalık', 'Femur diğer kısımlarının kırıkları', 'pelvik bölge ve kalça', 'Sternoklavikuler eklem burkulma ve gerilmesi', 'Diyabetes mellitüs', 'Eklem diğer bozuklukları', 'Mitral kapak yetmezliği', 'OMUZ BÖLGESİ', 'Omuzun kalsifik tendiniti', 'Stres kırığı', 'Genel tıbbi muayene', 'Kas bozuklukları', 'Bisipital tendinit', 'Rotator kuf sendromu', 'Pelvik Bölge Ve Kalça', 'Lomber omurga ve pelvis kırığı', 'Eklem \\xadağrısı', 'Tendonun (kılıf) diğer kontraktürü', 'Dermatofitoz', 'ayak bileği ve ayak', 'DORSALJİ', 'Anksiyete bozukluğu', 'Radius üst ucu kırığı', 'Serebrovasküler hastalıklar diğer', 'Subaraknoid hemoraji', 'Hipotroidizm', 'Tibia üst uç kırığı', 'Atrial fibrilasyon ve flutter', '\\u200bSafra taşı', 'tanımlanmamış', 'el', 'İnterverteb\\ufeffral\\u2003disk\\u2003bozuklukları', 'diğer sendromları', '\\u200bOmuzun darbe sendromu', 'El bileği ve el düzeyinde eklem ve ligamentlerin çıkık', 'Hematüri', '\\u200b SERVİKAL BÖLGE', '\\u200b SERVİKOTORASİK BÖLGE', 'eski yırtık veya yaralanmaya bağlı', 'tanımlanmış', '\\u200b DİĞER', 'diğer tanımlanmış', 'burkulma ve gerilmesi', 'Dizin iç bozukluğu', 'Spinal stenoz', 'Sinovit ve tenosinovit', 'burkulma', 'Eklemin kontraktürü', 'Meralgia paraestetika', 'PELV`IK BÖLGE VE KALÇA', '\\u200b', 'SERVİKAL\\xa0B`ÖLGE', 'Humerus alt uç kırığı', 'Popliteal boşluğun sinovial kisti [Baker]', 'Kalsifik tendinit', 'Bell palsisi', 'Kronik iskemik kalp hastalığı', 'Mitral ve triküspid kapak bozuklukları', 'COVID-19', 'Femur kırığı', 'İntervertebra\"l disk bozuklukları', 'Medial malleol kırığı', 'El bileği ve el düzeyinde baş parmak ekstansör kas ve tendonunun yaralanması', 'Akut peptik ülser', 'Spastik serebral palsi', 'Diz (anterior) (posterior) çapraz ligament burkulma ve gerilmesi', 'BACAK', 'El bileği ve el düzeyinde baş parmak intirinsik kas ve tendonunun yaralanması', 'Omuzun adezif kapsüliti', 'Tek başına fibula kırığı', 'SERVİKAL BÖLGE', 'İşemede diğer zorluklar', 'Allerjik rinit', 'El bileği ve el düzeyinde eklem ve ligame`ntlerin çıkık', 'Üriner sistem enfeksiyonu', 'Pnömoni', 'Kalkaneal spur', 'Deliryum', 'Düşme', 'Servikal disk bozukluklar\\u200dı', 'tanımlanmamış komplikasyonlarla birlikte', 'Lumbosakral Bölge', '\\u200bDispne', '\\u200bPertrokanterik kırık', 'Benign prostat hiperplazisi', 'Eklemde ağrı', 'Radikülopati', 'Karpal tünel sendromu', 'tanımlanmamış\\u200d', 'Astım', '\\u200b şimdiki', 'yer tanımlanmamış', '\\u200bVitaminlerin eksikliği', 'Servikal disk bozuklukları', 'radikülopati ile', '\\u200b tanımlanmamış', 'RADIKÜLOPATI', '\\u200bVitamin D eksikliği', 'Lateral malleol kırığı', 'Parmağın fleksor kas ve tendonunun diğer yaralanması', 'Metakarpal kemik diğer kırığı', 'Sinovya ve tendonun diğer bozuklukları', 'Böbrek yetmezlikleri', 'El bileği ve el düzeyinde baş parmak ekstansör kas ve tendonunun yaralanmas_x000D_ı', 'Pertrokanterik kırık', 'Aort stenozu', 'Tetik parmak', 'diğer', 'diğe\\xadr', 'Ayak kırığı', 'Magnezyum eksikliği', 'Kondrokostal kavşak sendromu [Tietze]', '\\u200bAlgonörodistrofi', 'Femur şaft kırığı', 'bilateral', 'Omuzun darbe sendromu', 'Omuz rotator cuff tendon yaralanması', 'Solunum yetmezliği', 'Ortopedik eklem implantı', '\\u200bDORSALJİ', 'Aşil tendon yaralanması', 'Konjestif kalp yetmezliği', \"SERVİKOTO'RASİK BÖLGE\", 'EKLEM\\ufeff AĞRISI', 'Vitaminlerin eksikliği', 'Lateral epikondilit', 'diğer radikulopati ile', 'Esansiyel (primer) hipertansiyon', 'Dirsek eklem ve ligamentlerinin çıkık', 'Fekal inkontinans', 'peritoneal apse ile', 'Kramp ve spazm', 'Kondromalazia patella', 'Mesanenin nöromusküler disfonksiyonu', 'İntervertebral disk bozuklukları', 'başka yerde sınıflanmış diğer hastalıklarda', 'Bronş ve akciğer malign neoplazmı', 'Kalp pili ayar ve kullanımı', 'Koksartroz', '\\u200bFemur diğer kısımlarının kırıkları', 'DISPNE', 'Omuz ve üst kol kırığı', '\\u200b ayak ve ayak bileği', 'Algonörodistrofi', 'ARTİKÜLER KIKIRDAK DİĞER BOZUKLUKLARI', 'El bileği ve el düzeyinde kas ve tendon yaralanması', 'TANIMLANMAMIŞ', 'Dispne', 'Anüs ve rektumun diğer tanımlanmış hastalıkları', 'Baldır düzeyinde peroneal sinir yaralanması', 'Eklem kontraktürü', 'di\"ğer', 'Akut apandisit', 'Koksartroz [kalça artrozu]', 'Parkinson hastalığı', 'Plantar fasial fibromatozis', 'Eklem ağrısı', 'Diğer yumuşak doku bozuklukları', 'Burun kemiklerinin kırığı', 'Skolyoz', 'Ayak bileği ve ayağın yüzeysel yaralanması', 'Vitamin D eksikliği', 'TORASİK BÖLGE', 'birden fazla yer', 'Nöralji ve nörit', 'patolojik kırıksız', '\\u200b başka yerde sınıflanmış hastalıklarda', 'şimdiki', 'i̇ntervertebral disk bozuklukları', 'Parapleji', 'Patellanın diğer yerleşim bozuklukları', 'Multipl skleroz', 'Metakarpal kemiklerin birden fazla kırıkları', 'Menisküs yırtı`ğı', 'tanımlanmamış bölgelerin', 'ayak ve ayak bileği', 'Primer gonartroz', 'Viral enfeksiyonlar', 'Kronik obstrüktif akciğer hastalığı', 'Omuz lezyonları', 'Menisküslerin yerleşim bozukluğu', 'Kas zorlanması (muscular strain)', '\\u200bMononöropatiler', 'Parapleji ve tetrapleji', 'myelopati ile (G99.2*)', 'OMUZUN KALSIFIK TENDINITI', 'Spondilolistezis', 'kapalı', 'Dirsek çıkığı', 'Aşil tendiniti', 'Spastik hemipleji', 'Artroz', 'İnme', 'Alt ekstremite mononöropatileri', 'Akromiyoklavikuler eklem burkulma ve gerilmesi', 'Dizin diğer bursiti', 'Kalp yetmezliği', 'Ayak bileği ve ayak düzeyinde kas ve tendon yaralanması', 'omuz bölgesi', 'İliotibial band sendromu', 'Eklemin diğer instabilitesi', 'VERTEBRADA', 'Boyun ağrısı', 'tanımlanmış virüs', 'başka yerde sınıflanmış hastalıklarda', 'Bel ağrısı', 'Ganglion', 'ayak bileği hariç', 'Humerus üst uç kırığı', 'Medial menisküsün posterior boynuzunun diğer yerleşim bozuklukları', 'Mononöropatiler', 'başka yerde sınıflanmamış'}\n"
          ]
        }
      ]
    },
    {
      "cell_type": "code",
      "source": [
        "df['TedaviAdi'].value_counts()"
      ],
      "metadata": {
        "colab": {
          "base_uri": "https://localhost:8080/",
          "height": 490
        },
        "id": "igx1mZWnPW1y",
        "outputId": "22ea8531-1928-49ab-b5ed-a785969072b1",
        "collapsed": true
      },
      "execution_count": 23,
      "outputs": [
        {
          "output_type": "execute_result",
          "data": {
            "text/plain": [
              "TedaviAdi\n",
              "Dorsalji -Boyun+trapez                          231\n",
              "İV DİSK BOZUKLUĞU-BEL                           200\n",
              "Dorsalji 1                                      140\n",
              "Dorsalji-Bel                                    120\n",
              "Gonartroz-Meniskopati                            95\n",
              "                                               ... \n",
              "Aşil Tendiniti sol-1                              1\n",
              "Koksartroz1-1                                     1\n",
              "Hemartrotik Diz-Kas Kuvvetlendirme Egzersizi      1\n",
              "Tendinit-tenosinovit-1                            1\n",
              "Koksartroz1-2-Kas Kuvvetlendirme Egzersizi        1\n",
              "Name: count, Length: 244, dtype: int64"
            ],
            "text/html": [
              "<div>\n",
              "<style scoped>\n",
              "    .dataframe tbody tr th:only-of-type {\n",
              "        vertical-align: middle;\n",
              "    }\n",
              "\n",
              "    .dataframe tbody tr th {\n",
              "        vertical-align: top;\n",
              "    }\n",
              "\n",
              "    .dataframe thead th {\n",
              "        text-align: right;\n",
              "    }\n",
              "</style>\n",
              "<table border=\"1\" class=\"dataframe\">\n",
              "  <thead>\n",
              "    <tr style=\"text-align: right;\">\n",
              "      <th></th>\n",
              "      <th>count</th>\n",
              "    </tr>\n",
              "    <tr>\n",
              "      <th>TedaviAdi</th>\n",
              "      <th></th>\n",
              "    </tr>\n",
              "  </thead>\n",
              "  <tbody>\n",
              "    <tr>\n",
              "      <th>Dorsalji -Boyun+trapez</th>\n",
              "      <td>231</td>\n",
              "    </tr>\n",
              "    <tr>\n",
              "      <th>İV DİSK BOZUKLUĞU-BEL</th>\n",
              "      <td>200</td>\n",
              "    </tr>\n",
              "    <tr>\n",
              "      <th>Dorsalji 1</th>\n",
              "      <td>140</td>\n",
              "    </tr>\n",
              "    <tr>\n",
              "      <th>Dorsalji-Bel</th>\n",
              "      <td>120</td>\n",
              "    </tr>\n",
              "    <tr>\n",
              "      <th>Gonartroz-Meniskopati</th>\n",
              "      <td>95</td>\n",
              "    </tr>\n",
              "    <tr>\n",
              "      <th>...</th>\n",
              "      <td>...</td>\n",
              "    </tr>\n",
              "    <tr>\n",
              "      <th>Aşil Tendiniti sol-1</th>\n",
              "      <td>1</td>\n",
              "    </tr>\n",
              "    <tr>\n",
              "      <th>Koksartroz1-1</th>\n",
              "      <td>1</td>\n",
              "    </tr>\n",
              "    <tr>\n",
              "      <th>Hemartrotik Diz-Kas Kuvvetlendirme Egzersizi</th>\n",
              "      <td>1</td>\n",
              "    </tr>\n",
              "    <tr>\n",
              "      <th>Tendinit-tenosinovit-1</th>\n",
              "      <td>1</td>\n",
              "    </tr>\n",
              "    <tr>\n",
              "      <th>Koksartroz1-2-Kas Kuvvetlendirme Egzersizi</th>\n",
              "      <td>1</td>\n",
              "    </tr>\n",
              "  </tbody>\n",
              "</table>\n",
              "<p>244 rows × 1 columns</p>\n",
              "</div><br><label><b>dtype:</b> int64</label>"
            ]
          },
          "metadata": {},
          "execution_count": 23
        }
      ]
    },
    {
      "cell_type": "code",
      "source": [
        "unique_diseases = set(\n",
        "    disease.strip()\n",
        "    for row in df[\"TedaviAdi\"].dropna()\n",
        "    for disease in row.split(\",\")\n",
        ")\n",
        "\n",
        "print(\"Farklı tedavi sayısı:\", len(unique_diseases))\n",
        "print(\"Tedavi listesi:\", unique_diseases)"
      ],
      "metadata": {
        "colab": {
          "base_uri": "https://localhost:8080/"
        },
        "id": "Tf9zQKsaPzBr",
        "outputId": "26c4273e-aaee-47d1-8f5d-f52b9110cfc5"
      },
      "execution_count": 24,
      "outputs": [
        {
          "output_type": "stream",
          "name": "stdout",
          "text": [
            "Farklı tedavi sayısı: 244\n",
            "Tedavi listesi: {'', 'Dirsek eklem çıkığı+Kontraktürü', 'Diz Op-Erken Rehabilitasyon', 'SAĞ OMUZ protezi+ el bileği kırığı', 'Sol  ÖÇB Rehabilitasyonu-1', 'Yaygın kuvvetsizlik-Yürüme egzersizleri', 'Dorsalji', 'Trokanterik bursit', 'servikal Disk Hernisi', 'Ön çapraz bağ rehabilitasyonu', 'Patellar gevşetme+quadriseps güçsüzlüğü', 'Mallet finger+ algonörodistrofi', 'Gonartroz-Meniskopati + kalkaneal Spur', 'Boyun-Düşük kol', 'Postop Diz Artroskopi-Sol', 'Sağ hemipleji', 'Kondromalezi patella-2', 'İV DİSK BOZUKLUĞU-BEL-2', 'Malleol kırığı-2', 'EL REHABİLİTASYONU', 'Algonörodistrofi Sol Ayak', 'impingement Sol', 'Kalkaneal Spur-2', 'impingement sağ', 'Tendinit-tenosinovit-1', 'Sol Meralgia parestetika', 'Diz Menisküs Erken mobilizasyon', 'Parapleji-Tetrapleji', 'Sol diz Post Op-Geç Dönme', 'Gonartroz', 'Sol omuz İmpingemen Post op', 'TFCC rehabilitasyonu', 'İmpimgement send', 'Sağ omuz impingement', 'Lenfödem+ekstremite ağrısı', 'DENEME', 'Diz implantı', 'Kalça labrum yırtığı opl', 'Plantar fasiit', 'Kondromalazi patella', 'Sol omuz İmpingement+ servikal traksiyon injurisi', 'Baker kisti rüptürü', 'Sağ  Hemiparezi', 'Dorsalji-Boyun sırt', 'Metatarsalji', 'Kalça + bel  ağrısı', 'Pelvik Taban Rehabilitasyonu', 'Sol omuz İmpingement', 'Muscular strain', 'Alt ekstremite atrofi+yürüme', 'Gonartroz-Meniskopati', 'Koksartroz1', 'Sol  ÖÇB Rehabilitasyonu-2', 'Dorsalji-Dorsal', 'Ayak bileği distorsiyonu-2', 'Sol Omuz impingement (darbe sendromu)', 'Hemiparezi', 'Koksartroz1-2-Kas Kuvvetlendirme Egzersizi', 'Epikondilit-2', 'Sol el tendon yaralanması', 'Sol Omuz İmpingement+ dorsalji', 'Sol hemipleji Yatakta', 'Femur uzatma op', 'Ayak bileği Post OP', 'Sağ medial epikondilit Muskuler strain', 'Kalça ağrısı +FAS', 'Serebral Palsi', '1. parmak bağ ve volar plak yaralanması', 'Sol düşük ayak', 'Kalça İmplantı-Erken rehabilitasyon', 'İmpingement op izometrik', 'Postop Kalça implantı -Sol-1', 'Sağ hemiparezi+ Beyin Tm op lusu', 'Eklem implant-Erken rehabilitasyon', 'Tendinit-tenosinovit-2', 'Sağ servikal radikülopati', 'İV DİSK BOZUKLUĞU-BEL', 'Sağ omuz İmpingemen Post op', 'Fleksör tendon yaralanması', 'Medial Palntar Sinir sıkışması', 'EL BİLEĞİ TENDİNİT+GANGLİON', 'Teres majör Kas strain', 'Dorsalji- Koksiks', 'Sol diz Pre Op', 'ÖÇB', 'Koksartroz1-1', 'Bilarteral implant-Erken rehabilitasyon', 'Çapraz bağ lezyonu', 'Boyun', 'Siyatalji', 'Diz ağrısı', 'aşil ameliyatı erken', 'Spinal manüpilasyon', 'Ayak bileği distorsiyonu-1', '1. Parmak CMC eklem ağrısı', 'Sağ omuz adezif kapsülüt+tendinit', 'PTR', 'Bialetarl Diz İmplantı-Erken rehabilitasyon', 'Yürüme eğitimi', 'Aşil Tendiniti sol-2', 'Ayak bileği Kontraktürü', 'Hemartrotik Diz', 'Sağ subtrokanterik kırık', 'Kemik uzatma op lusu', 'Quadriseps Güçlendirme', 'Meralgia Parestetika', 'Tetik parmak Op lusu', 'Epikondilit-1', '5. metatars fissürü+bağ lezyonu', 'Kondromalezi patella+lateralizasyon', 'El rehabilitasyon programı-ROM Egzersizi (eklem hareket açıklığı egzersizi)', 'Sol Lateral epikondilit', 'Dorsalji-Bel+ Eklem ağrsıı', 'TME bozukluğu', 'El rehabilitasyonu', 'Plantar Fasiit', 'Kalça Travmatik yaralanması', 'Alt ekstremite atrofi-Bilateral', 'Beyin kanaması+atrofi', 'Kalça ağrısı', 'Triseps tendiniti-2', 'Hemipleji', 'El rehabilitasyon programı', 'MENİSKÜS TAMİRİ', 'Diz Menisküs', 'Radikülopati', 'İV Disk Boyun', 'Ataksi reh', 'Triseps tendiniti-1', 'Bilateral Diz Eklem İmplantı', 'Sol omuz İmpingement+ CMC artroz', 'Dorsalji-Servikal', 'Sağ el bilek ağrıs', 'Muskuler strain', 'Humerus alt uş-Dirsek kırığı', 'Aşil Tendiniti sol-1', 'Travmatik beyin yaralanması', 'Metkarp kırığı+ Kontraktür', 'Deneme', 'onur', 'Kifoz', 'Servikal İV disk bozukluğu', 'Koksartroz 1', 'El rehabilitasyon programı- Alçak ve Orta Frekanslı Akımlar', 'Sol diz implantı reh', 'Aşil Rüptürü-2', 'Aşil Rüptürü Rehabilitasyonu', 'Sol Diz Eklem İmplantı', 'Algonörodistrofi Sol ayak', 'xx', 'Kalça impingiment', 'Algonörodistrofi Sol el', 'Myodascial ağrı', 'Artroskopi Diz Tam yükle mobilizasyon', 'Kondromalezi patella-2-Kas Kuvvetlendirme Egzersizi', 'Paraparezi', 'Sağ Diz Eklem İmplantı Reha', 'El rehabilitasyonu-El Rehabilitasyonu', 'Metakarp kırığı El rehabilitasyonu', 'Sol  omuz İmpingemen', 'Aşil tamiri', 'Omuz El sendromu', 'Ekstansör tendon Rehabilitasyon', 'Eklem ağrsıı', 'Sağ ayak 1. parmak ravmatik yaralanması', 'SOL hEMİPLEJİ', 'Patella Yerleşim Boz', 'TFCC  Rehabilitasyon', 'Kondromalezi patella-1', 'Organ Nakli Mobilizasyon', 'kalça ağrısı+trokanterik bursit', 'DİZ PROTEZİ SONRASI TAM  YÜK', 'Parmak kırığı', 'SOL KALÇA İMPLANTI', 'Kalça implant-Erken rehabilitasyon', 'Koksartroz', 'Kalkaneal Spur-1', 'Ayak bileği distorsiyonu', 'Sağ düşük ayak', 'Menisektomi-Erken rehabilitasyon', 'Pediatrik Rehabilitasyon Programı-1', 'Ayak Bileği', 'Yaygın kuvvetsizlik', 'Eklem implantı-Bilateral', 'SAĞ OMUZ İMPİNGEMENT', 'Sol Omuz İmpingement', 'Boyun-Trapezz', 'İV DİSK BOZUKLUĞU-BEL-1', 'Dorsalji+ radikülopati', 'Sağ+ sol humerus kırığı', 'Eklem ağrısı', 'Epikondilit', 'Plantar fasiit Sağ-1', 'Volar plak reh', 'Skolyoz', 'Koksartroz1-2', 'Bel', 'Sol Omuz impingement', 'Parapleji', 'Dorsalji -Boyun+trapez', 'Sağ hemiparezi', 'Sol Hemiparezi+ el kontraktürü', 'Spinal Stenoz', 'Sol el artroplastisi', 'İmpingement Sağ', 'Muskuler strain+ tendinit', 'Parmak protezi', 'Dorsalji Boyun 1', 'Sol Kalça İmplantı Geç Rehabilitasyonu', 'Fibula kırığı', 'Sol kalça implantı', 'Sağ omuz impingement+ adezif kapsülit', 'Hemartrotik Diz-Kas Kuvvetlendirme Egzersizi', 'Postop Diz Artroskopi-Sağ', 'Spondilolistezis', 'Alt ekstremite atrofi-', 'Aşil Rüptürü-1', 'Aksiller web sendromu+kontraktür', 'El rehabilitasyon programı- Yüzeysel Soğuk ve Isıtıcılar', 'Bel FTR', 'Postop Kalça implantı -Sol-2', 'Patella kırığı', 'KALÇA AĞRISI SAĞ', 'Dorsalji -Boyun+trapez+skapular', 'Humerus kırığı', 'Düşük ayak', 'Sağ omuz İmpingement', 'Meniskopati Bursit', 'Dorsalji-Bel', 'Fasiyal Paralizi', 'Aşil Rüptürü Op', 'Menisküs op. lusu', 'Omuz Post Op İzometrik', 'Aşil Kısalığı', 'Sağ Kalça ve bacak kuvvetsizliği+ağrısı', 'Yürüme', 'Boyun-Sırt ağrısı', 'Dorsalji +Servikal Myelomalazi', 'Dorsalji 1', 'Pilates bel', 'Malleol kırığı-1', 'Plantar fasiit Sağ-2', 'Serebrovasküler olay', 'Parmak protezi-El Rehabilitasyonu'}\n"
          ]
        }
      ]
    },
    {
      "cell_type": "code",
      "source": [
        "df.columns = df.columns.str.strip()\n",
        "\n",
        "df[\"Tedavi_suresi\"] = df[\"TedaviSuresi\"].astype(str).str.extract(r\"(\\d+)\")[0].astype(int)\n",
        "\n",
        "print(df[\"Tedavi_suresi\"])\n",
        "df.drop(columns=['TedaviSuresi'], inplace=True)"
      ],
      "metadata": {
        "colab": {
          "base_uri": "https://localhost:8080/"
        },
        "id": "vhAaGiXARRav",
        "outputId": "e71f994f-3b06-41a6-aeae-33349c75c8a5"
      },
      "execution_count": 25,
      "outputs": [
        {
          "output_type": "stream",
          "name": "stdout",
          "text": [
            "0        5\n",
            "1       15\n",
            "2       15\n",
            "3       15\n",
            "4       15\n",
            "        ..\n",
            "2230    15\n",
            "2231    15\n",
            "2232    15\n",
            "2233    15\n",
            "2234    15\n",
            "Name: Tedavi_suresi, Length: 2235, dtype: int64\n"
          ]
        }
      ]
    },
    {
      "cell_type": "code",
      "source": [
        "df['Tedavi_suresi'].describe()"
      ],
      "metadata": {
        "colab": {
          "base_uri": "https://localhost:8080/",
          "height": 335
        },
        "id": "NDCJkkdf-9J1",
        "outputId": "d538138a-b58c-4ab8-9147-e41ff23282c0"
      },
      "execution_count": 26,
      "outputs": [
        {
          "output_type": "execute_result",
          "data": {
            "text/plain": [
              "count    2235.000000\n",
              "mean       14.570917\n",
              "std         3.725322\n",
              "min         1.000000\n",
              "25%        15.000000\n",
              "50%        15.000000\n",
              "75%        15.000000\n",
              "max        37.000000\n",
              "Name: Tedavi_suresi, dtype: float64"
            ],
            "text/html": [
              "<div>\n",
              "<style scoped>\n",
              "    .dataframe tbody tr th:only-of-type {\n",
              "        vertical-align: middle;\n",
              "    }\n",
              "\n",
              "    .dataframe tbody tr th {\n",
              "        vertical-align: top;\n",
              "    }\n",
              "\n",
              "    .dataframe thead th {\n",
              "        text-align: right;\n",
              "    }\n",
              "</style>\n",
              "<table border=\"1\" class=\"dataframe\">\n",
              "  <thead>\n",
              "    <tr style=\"text-align: right;\">\n",
              "      <th></th>\n",
              "      <th>Tedavi_suresi</th>\n",
              "    </tr>\n",
              "  </thead>\n",
              "  <tbody>\n",
              "    <tr>\n",
              "      <th>count</th>\n",
              "      <td>2235.000000</td>\n",
              "    </tr>\n",
              "    <tr>\n",
              "      <th>mean</th>\n",
              "      <td>14.570917</td>\n",
              "    </tr>\n",
              "    <tr>\n",
              "      <th>std</th>\n",
              "      <td>3.725322</td>\n",
              "    </tr>\n",
              "    <tr>\n",
              "      <th>min</th>\n",
              "      <td>1.000000</td>\n",
              "    </tr>\n",
              "    <tr>\n",
              "      <th>25%</th>\n",
              "      <td>15.000000</td>\n",
              "    </tr>\n",
              "    <tr>\n",
              "      <th>50%</th>\n",
              "      <td>15.000000</td>\n",
              "    </tr>\n",
              "    <tr>\n",
              "      <th>75%</th>\n",
              "      <td>15.000000</td>\n",
              "    </tr>\n",
              "    <tr>\n",
              "      <th>max</th>\n",
              "      <td>37.000000</td>\n",
              "    </tr>\n",
              "  </tbody>\n",
              "</table>\n",
              "</div><br><label><b>dtype:</b> float64</label>"
            ]
          },
          "metadata": {},
          "execution_count": 26
        }
      ]
    },
    {
      "cell_type": "code",
      "source": [
        "df['UygulamaYerleri'].value_counts()"
      ],
      "metadata": {
        "colab": {
          "base_uri": "https://localhost:8080/",
          "height": 1000
        },
        "id": "QYlke0FMj16A",
        "outputId": "bdd9a1ba-3364-4c6e-b299-a0bce56f66da",
        "collapsed": true
      },
      "execution_count": 28,
      "outputs": [
        {
          "output_type": "execute_result",
          "data": {
            "text/plain": [
              "UygulamaYerleri\n",
              "Bel                                                528\n",
              "Boyun                                              363\n",
              "Diz                                                177\n",
              "Sol Omuz Bölgesi                                   137\n",
              "Sağ Omuz Bölgesi                                   127\n",
              "Sol El Bilek Bölgesi                                83\n",
              "Sırt                                                75\n",
              "Sağ Ayak Bileği Bölgesi                             61\n",
              "Sol Ayak Bileği Bölgesi                             58\n",
              "Tüm Vücut Bölgesi                                   58\n",
              "Sol Diz Bölgesi                                     49\n",
              "Sağ El Bilek Bölgesi                                47\n",
              "Sol Kalça Bölgesi                                   30\n",
              "Sağ Kalça Bölgesi                                   29\n",
              "Sağ Diz Bölgesi                                     29\n",
              "Kalça                                               28\n",
              "Sağ Kalça Bölgesi,Sol Kalça Bölgesi                 17\n",
              "Dirsek                                              14\n",
              "Yüz                                                 13\n",
              "Boyun,El Bilek                                      12\n",
              "Boyun,Sırt                                          11\n",
              "Omuz                                                10\n",
              "Sırt,Bel                                             9\n",
              "Ayak Bileği                                          8\n",
              "Sol Dirsek Bölgesi                                   8\n",
              "Sağ Ayak Bileği Bölgesi,Sol Ayak Bileği Bölgesi      7\n",
              "Sağ Dirsek Bölgesi                                   7\n",
              "Bel,Tüm Vücut Bölgesi                                4\n",
              "Sağ Diz Bölgesi,Sol Diz Bölgesi                      3\n",
              "Boyun,Bel                                            2\n",
              "Sağ Omuz Bölgesi,Sol Omuz Bölgesi                    2\n",
              "Sol Dirsek Bölgesi,Sol El Bilek Bölgesi              2\n",
              "Sağ Omuz Bölgesi,Sağ El Bilek Bölgesi                2\n",
              "Sol Omuz Bölgesi,Sol El Bilek Bölgesi                1\n",
              "El Bilek                                             1\n",
              "Sağ Omuz Bölgesi,Sağ Kalça Bölgesi                   1\n",
              "Sırt,Omuz                                            1\n",
              "Name: count, dtype: int64"
            ],
            "text/html": [
              "<div>\n",
              "<style scoped>\n",
              "    .dataframe tbody tr th:only-of-type {\n",
              "        vertical-align: middle;\n",
              "    }\n",
              "\n",
              "    .dataframe tbody tr th {\n",
              "        vertical-align: top;\n",
              "    }\n",
              "\n",
              "    .dataframe thead th {\n",
              "        text-align: right;\n",
              "    }\n",
              "</style>\n",
              "<table border=\"1\" class=\"dataframe\">\n",
              "  <thead>\n",
              "    <tr style=\"text-align: right;\">\n",
              "      <th></th>\n",
              "      <th>count</th>\n",
              "    </tr>\n",
              "    <tr>\n",
              "      <th>UygulamaYerleri</th>\n",
              "      <th></th>\n",
              "    </tr>\n",
              "  </thead>\n",
              "  <tbody>\n",
              "    <tr>\n",
              "      <th>Bel</th>\n",
              "      <td>528</td>\n",
              "    </tr>\n",
              "    <tr>\n",
              "      <th>Boyun</th>\n",
              "      <td>363</td>\n",
              "    </tr>\n",
              "    <tr>\n",
              "      <th>Diz</th>\n",
              "      <td>177</td>\n",
              "    </tr>\n",
              "    <tr>\n",
              "      <th>Sol Omuz Bölgesi</th>\n",
              "      <td>137</td>\n",
              "    </tr>\n",
              "    <tr>\n",
              "      <th>Sağ Omuz Bölgesi</th>\n",
              "      <td>127</td>\n",
              "    </tr>\n",
              "    <tr>\n",
              "      <th>Sol El Bilek Bölgesi</th>\n",
              "      <td>83</td>\n",
              "    </tr>\n",
              "    <tr>\n",
              "      <th>Sırt</th>\n",
              "      <td>75</td>\n",
              "    </tr>\n",
              "    <tr>\n",
              "      <th>Sağ Ayak Bileği Bölgesi</th>\n",
              "      <td>61</td>\n",
              "    </tr>\n",
              "    <tr>\n",
              "      <th>Sol Ayak Bileği Bölgesi</th>\n",
              "      <td>58</td>\n",
              "    </tr>\n",
              "    <tr>\n",
              "      <th>Tüm Vücut Bölgesi</th>\n",
              "      <td>58</td>\n",
              "    </tr>\n",
              "    <tr>\n",
              "      <th>Sol Diz Bölgesi</th>\n",
              "      <td>49</td>\n",
              "    </tr>\n",
              "    <tr>\n",
              "      <th>Sağ El Bilek Bölgesi</th>\n",
              "      <td>47</td>\n",
              "    </tr>\n",
              "    <tr>\n",
              "      <th>Sol Kalça Bölgesi</th>\n",
              "      <td>30</td>\n",
              "    </tr>\n",
              "    <tr>\n",
              "      <th>Sağ Kalça Bölgesi</th>\n",
              "      <td>29</td>\n",
              "    </tr>\n",
              "    <tr>\n",
              "      <th>Sağ Diz Bölgesi</th>\n",
              "      <td>29</td>\n",
              "    </tr>\n",
              "    <tr>\n",
              "      <th>Kalça</th>\n",
              "      <td>28</td>\n",
              "    </tr>\n",
              "    <tr>\n",
              "      <th>Sağ Kalça Bölgesi,Sol Kalça Bölgesi</th>\n",
              "      <td>17</td>\n",
              "    </tr>\n",
              "    <tr>\n",
              "      <th>Dirsek</th>\n",
              "      <td>14</td>\n",
              "    </tr>\n",
              "    <tr>\n",
              "      <th>Yüz</th>\n",
              "      <td>13</td>\n",
              "    </tr>\n",
              "    <tr>\n",
              "      <th>Boyun,El Bilek</th>\n",
              "      <td>12</td>\n",
              "    </tr>\n",
              "    <tr>\n",
              "      <th>Boyun,Sırt</th>\n",
              "      <td>11</td>\n",
              "    </tr>\n",
              "    <tr>\n",
              "      <th>Omuz</th>\n",
              "      <td>10</td>\n",
              "    </tr>\n",
              "    <tr>\n",
              "      <th>Sırt,Bel</th>\n",
              "      <td>9</td>\n",
              "    </tr>\n",
              "    <tr>\n",
              "      <th>Ayak Bileği</th>\n",
              "      <td>8</td>\n",
              "    </tr>\n",
              "    <tr>\n",
              "      <th>Sol Dirsek Bölgesi</th>\n",
              "      <td>8</td>\n",
              "    </tr>\n",
              "    <tr>\n",
              "      <th>Sağ Ayak Bileği Bölgesi,Sol Ayak Bileği Bölgesi</th>\n",
              "      <td>7</td>\n",
              "    </tr>\n",
              "    <tr>\n",
              "      <th>Sağ Dirsek Bölgesi</th>\n",
              "      <td>7</td>\n",
              "    </tr>\n",
              "    <tr>\n",
              "      <th>Bel,Tüm Vücut Bölgesi</th>\n",
              "      <td>4</td>\n",
              "    </tr>\n",
              "    <tr>\n",
              "      <th>Sağ Diz Bölgesi,Sol Diz Bölgesi</th>\n",
              "      <td>3</td>\n",
              "    </tr>\n",
              "    <tr>\n",
              "      <th>Boyun,Bel</th>\n",
              "      <td>2</td>\n",
              "    </tr>\n",
              "    <tr>\n",
              "      <th>Sağ Omuz Bölgesi,Sol Omuz Bölgesi</th>\n",
              "      <td>2</td>\n",
              "    </tr>\n",
              "    <tr>\n",
              "      <th>Sol Dirsek Bölgesi,Sol El Bilek Bölgesi</th>\n",
              "      <td>2</td>\n",
              "    </tr>\n",
              "    <tr>\n",
              "      <th>Sağ Omuz Bölgesi,Sağ El Bilek Bölgesi</th>\n",
              "      <td>2</td>\n",
              "    </tr>\n",
              "    <tr>\n",
              "      <th>Sol Omuz Bölgesi,Sol El Bilek Bölgesi</th>\n",
              "      <td>1</td>\n",
              "    </tr>\n",
              "    <tr>\n",
              "      <th>El Bilek</th>\n",
              "      <td>1</td>\n",
              "    </tr>\n",
              "    <tr>\n",
              "      <th>Sağ Omuz Bölgesi,Sağ Kalça Bölgesi</th>\n",
              "      <td>1</td>\n",
              "    </tr>\n",
              "    <tr>\n",
              "      <th>Sırt,Omuz</th>\n",
              "      <td>1</td>\n",
              "    </tr>\n",
              "  </tbody>\n",
              "</table>\n",
              "</div><br><label><b>dtype:</b> int64</label>"
            ]
          },
          "metadata": {},
          "execution_count": 28
        }
      ]
    },
    {
      "cell_type": "code",
      "source": [
        "unique_diseases = set(\n",
        "    disease.strip()\n",
        "    for row in df[\"UygulamaYerleri\"].dropna()\n",
        "    for disease in row.split(\",\")\n",
        ")\n",
        "\n",
        "print(\"Farklı tedavi sayısı:\", len(unique_diseases))\n",
        "print(\"Tedavi listesi:\", unique_diseases)"
      ],
      "metadata": {
        "colab": {
          "base_uri": "https://localhost:8080/"
        },
        "id": "TAGc8XWKx_ot",
        "outputId": "1009c2bd-12aa-42ad-b657-fddf26572b71"
      },
      "execution_count": 29,
      "outputs": [
        {
          "output_type": "stream",
          "name": "stdout",
          "text": [
            "Farklı tedavi sayısı: 23\n",
            "Tedavi listesi: {'Sol Dirsek Bölgesi', 'Ayak Bileği', 'Sağ Kalça Bölgesi', 'Sol Ayak Bileği Bölgesi', 'Sağ Diz Bölgesi', 'Kalça', 'Yüz', 'Dirsek', 'Bel', 'Sırt', 'Sağ Dirsek Bölgesi', 'Diz', 'Sağ El Bilek Bölgesi', 'Sağ Omuz Bölgesi', 'El Bilek', 'Sol Kalça Bölgesi', 'Boyun', 'Sağ Ayak Bileği Bölgesi', 'Omuz', 'Sol Omuz Bölgesi', 'Sol El Bilek Bölgesi', 'Tüm Vücut Bölgesi', 'Sol Diz Bölgesi'}\n"
          ]
        }
      ]
    },
    {
      "cell_type": "code",
      "source": [
        "df.columns = df.columns.str.strip()\n",
        "\n",
        "df[\"Uygulama_suresi\"] = df[\"UygulamaSuresi\"].astype(str).str.extract(r\"(\\d+)\")[0].astype(int)\n",
        "print(df[\"Uygulama_suresi\"])\n",
        "df.drop(columns=['UygulamaSuresi'], inplace=True)"
      ],
      "metadata": {
        "colab": {
          "base_uri": "https://localhost:8080/"
        },
        "id": "b4xU7kjL-cGl",
        "outputId": "1039e057-a244-4803-b672-e85587c9b5aa"
      },
      "execution_count": 31,
      "outputs": [
        {
          "output_type": "stream",
          "name": "stdout",
          "text": [
            "0       20\n",
            "1       20\n",
            "2       20\n",
            "3        5\n",
            "4       20\n",
            "        ..\n",
            "2230    10\n",
            "2231    20\n",
            "2232    20\n",
            "2233    15\n",
            "2234     5\n",
            "Name: Uygulama_suresi, Length: 2235, dtype: int64\n"
          ]
        }
      ]
    },
    {
      "cell_type": "code",
      "source": [
        "df['Uygulama_suresi'].describe()"
      ],
      "metadata": {
        "colab": {
          "base_uri": "https://localhost:8080/",
          "height": 335
        },
        "id": "t-JAG9Fb-ynq",
        "outputId": "f2adf549-60fd-41dd-a5da-d10b6710e9dd"
      },
      "execution_count": 32,
      "outputs": [
        {
          "output_type": "execute_result",
          "data": {
            "text/plain": [
              "count    2235.000000\n",
              "mean       16.573154\n",
              "std         6.268635\n",
              "min         3.000000\n",
              "25%        10.000000\n",
              "50%        20.000000\n",
              "75%        20.000000\n",
              "max        45.000000\n",
              "Name: Uygulama_suresi, dtype: float64"
            ],
            "text/html": [
              "<div>\n",
              "<style scoped>\n",
              "    .dataframe tbody tr th:only-of-type {\n",
              "        vertical-align: middle;\n",
              "    }\n",
              "\n",
              "    .dataframe tbody tr th {\n",
              "        vertical-align: top;\n",
              "    }\n",
              "\n",
              "    .dataframe thead th {\n",
              "        text-align: right;\n",
              "    }\n",
              "</style>\n",
              "<table border=\"1\" class=\"dataframe\">\n",
              "  <thead>\n",
              "    <tr style=\"text-align: right;\">\n",
              "      <th></th>\n",
              "      <th>Uygulama_suresi</th>\n",
              "    </tr>\n",
              "  </thead>\n",
              "  <tbody>\n",
              "    <tr>\n",
              "      <th>count</th>\n",
              "      <td>2235.000000</td>\n",
              "    </tr>\n",
              "    <tr>\n",
              "      <th>mean</th>\n",
              "      <td>16.573154</td>\n",
              "    </tr>\n",
              "    <tr>\n",
              "      <th>std</th>\n",
              "      <td>6.268635</td>\n",
              "    </tr>\n",
              "    <tr>\n",
              "      <th>min</th>\n",
              "      <td>3.000000</td>\n",
              "    </tr>\n",
              "    <tr>\n",
              "      <th>25%</th>\n",
              "      <td>10.000000</td>\n",
              "    </tr>\n",
              "    <tr>\n",
              "      <th>50%</th>\n",
              "      <td>20.000000</td>\n",
              "    </tr>\n",
              "    <tr>\n",
              "      <th>75%</th>\n",
              "      <td>20.000000</td>\n",
              "    </tr>\n",
              "    <tr>\n",
              "      <th>max</th>\n",
              "      <td>45.000000</td>\n",
              "    </tr>\n",
              "  </tbody>\n",
              "</table>\n",
              "</div><br><label><b>dtype:</b> float64</label>"
            ]
          },
          "metadata": {},
          "execution_count": 32
        }
      ]
    },
    {
      "cell_type": "markdown",
      "source": [
        "Boxplot Grafikleri"
      ],
      "metadata": {
        "id": "2oqCAITt7uvS"
      }
    },
    {
      "cell_type": "code",
      "source": [
        "df[[\"Yas\",\"Uygulama_suresi\"]].boxplot()\n",
        "plt.title(\"Yaş ve Uygulama Süresi  Dağılımı\")\n",
        "plt.show()"
      ],
      "metadata": {
        "colab": {
          "base_uri": "https://localhost:8080/",
          "height": 452
        },
        "id": "aOEmY9RD42UR",
        "outputId": "3da0245a-1367-46cf-e233-d477d7752fe5"
      },
      "execution_count": 33,
      "outputs": [
        {
          "output_type": "display_data",
          "data": {
            "text/plain": [
              "<Figure size 640x480 with 1 Axes>"
            ],
            "image/png": "[encoded data removed]"
          },
          "metadata": {}
        }
      ]
    },
    {
      "cell_type": "code",
      "source": [
        "plt.boxplot(df[\"Tedavi_suresi\"])\n",
        "plt.ylim(0,30)\n",
        "plt.title(\"Tedavi Süresi \")\n",
        "plt.show()"
      ],
      "metadata": {
        "colab": {
          "base_uri": "https://localhost:8080/",
          "height": 452
        },
        "id": "UlB6purK7zs1",
        "outputId": "82552923-4c26-44e0-e160-8a431cd7e767"
      },
      "execution_count": 34,
      "outputs": [
        {
          "output_type": "display_data",
          "data": {
            "text/plain": [
              "<Figure size 640x480 with 1 Axes>"
            ],
            "image/png": "[encoded data removed]"
          },
          "metadata": {}
        }
      ]
    },
    {
      "cell_type": "markdown",
      "source": [
        "Histogram"
      ],
      "metadata": {
        "id": "Q0eC6as8BvNL"
      }
    },
    {
      "cell_type": "code",
      "source": [
        "sns.histplot(df[\"Uygulama_suresi\"], bins=20, kde=False)\n",
        "plt.title(\"Uygulama Süresi Dağılımı\")\n",
        "plt.show()"
      ],
      "metadata": {
        "colab": {
          "base_uri": "https://localhost:8080/",
          "height": 472
        },
        "id": "urVBOjqqAOpK",
        "outputId": "385f12a4-dd2e-4f44-c6fc-beb6433a2ede"
      },
      "execution_count": 35,
      "outputs": [
        {
          "output_type": "display_data",
          "data": {
            "text/plain": [
              "<Figure size 640x480 with 1 Axes>"
            ],
            "image/png": "[encoded data removed]"
          },
          "metadata": {}
        }
      ]
    },
    {
      "cell_type": "code",
      "source": [
        "sns.histplot(df[\"Tedavi_suresi\"], bins=20, kde=False)\n",
        "plt.title(\"Tedavi Süresi Dağılımı\")\n",
        "plt.show()"
      ],
      "metadata": {
        "colab": {
          "base_uri": "https://localhost:8080/",
          "height": 472
        },
        "id": "HjeDXlViBybW",
        "outputId": "05332179-a701-4e25-c6ee-56405333f5af"
      },
      "execution_count": 36,
      "outputs": [
        {
          "output_type": "display_data",
          "data": {
            "text/plain": [
              "<Figure size 640x480 with 1 Axes>"
            ],
            "image/png": "[encoded data removed]"
          },
          "metadata": {}
        }
      ]
    },
    {
      "cell_type": "code",
      "source": [
        "sns.histplot(df[\"Yas\"], bins=20, kde=False)\n",
        "plt.title(\"Yaş Dağılımı\")\n",
        "plt.show()"
      ],
      "metadata": {
        "colab": {
          "base_uri": "https://localhost:8080/",
          "height": 472
        },
        "id": "mob2pHNuB5Uz",
        "outputId": "68d500ec-2b5d-446f-aa5c-1fc6cb490703"
      },
      "execution_count": 37,
      "outputs": [
        {
          "output_type": "display_data",
          "data": {
            "text/plain": [
              "<Figure size 640x480 with 1 Axes>"
            ],
            "image/png": "[encoded data removed]"
          },
          "metadata": {}
        }
      ]
    },
    {
      "cell_type": "markdown",
      "source": [
        "Hedef Değişken Tedavi Süresi Grafikleri"
      ],
      "metadata": {
        "id": "mi7J4Zok6ix8"
      }
    },
    {
      "cell_type": "code",
      "source": [
        "sns.countplot(x=\"Tedavi_suresi\", data=df)\n",
        "plt.xticks(rotation=45)\n",
        "plt.title(\"Tedavi Süresi Frekansları\")\n",
        "plt.show()\n"
      ],
      "metadata": {
        "colab": {
          "base_uri": "https://localhost:8080/",
          "height": 480
        },
        "id": "GA5H69Gf4YTT",
        "outputId": "d35715af-246c-4912-bda9-a07a6aa10169"
      },
      "execution_count": 46,
      "outputs": [
        {
          "output_type": "display_data",
          "data": {
            "text/plain": [
              "<Figure size 640x480 with 1 Axes>"
            ],
            "image/png": "[encoded data removed]"
          },
          "metadata": {}
        }
      ]
    },
    {
      "cell_type": "code",
      "source": [
        "sns.ecdfplot(df[\"Tedavi_suresi\"])\n",
        "plt.xlabel(\"Tedavi Süresi\")\n",
        "plt.ylabel(\"Kümülatif Olasılık\")\n",
        "plt.title(\"Tedavi Süresi ECDF\")\n",
        "plt.show()\n"
      ],
      "metadata": {
        "colab": {
          "base_uri": "https://localhost:8080/",
          "height": 472
        },
        "id": "Q3qlcOpx5W55",
        "outputId": "fe60533a-9b56-4b7f-c0e4-ef4029f6f692"
      },
      "execution_count": 49,
      "outputs": [
        {
          "output_type": "display_data",
          "data": {
            "text/plain": [
              "<Figure size 640x480 with 1 Axes>"
            ],
            "image/png": "[encoded data removed]"
          },
          "metadata": {}
        }
      ]
    },
    {
      "cell_type": "markdown",
      "source": [
        "Korelasyon Grafikleri"
      ],
      "metadata": {
        "id": "MXzyupt76czc"
      }
    },
    {
      "cell_type": "code",
      "source": [
        "numeric_df = df.select_dtypes(include=[\"int64\", \"float64\"])\n",
        "corr = numeric_df.corr()\n",
        "# Korelasyon grafiği (heatmap)\n",
        "plt.figure(figsize=(12,8))\n",
        "sns.heatmap(corr, annot=True, cmap=\"coolwarm\", fmt=\".2f\")\n",
        "plt.title(\"Korelasyon Matrisi (Sayısal Değişkenler)\")\n",
        "plt.show()"
      ],
      "metadata": {
        "id": "ywM_BW716cMH",
        "outputId": "9ef94b48-6fd6-46e6-b491-1a17be931edc",
        "colab": {
          "base_uri": "https://localhost:8080/",
          "height": 803
        }
      },
      "execution_count": 50,
      "outputs": [
        {
          "output_type": "display_data",
          "data": {
            "text/plain": [
              "<Figure size 1200x800 with 2 Axes>"
            ],
            "image/png": "[encoded data removed]"
          },
          "metadata": {}
        }
      ]
    },
    {
      "cell_type": "code",
      "source": [
        "df[\"Alerji\"] = df[\"Alerji\"].fillna(\"Unknown\")\n",
        "df_unique = df.groupby(\"HastaNo\")[\"Alerji\"].apply(lambda x: \",\".join(x.unique())).reset_index()\n",
        "df_allergy = df[\"Alerji\"].str.get_dummies(sep=\",\")\n",
        "allergy_counts = df_allergy.sum().sort_values(ascending=False)\n",
        "\n",
        "\n"
      ],
      "metadata": {
        "id": "zTbOVnjYasAQ"
      },
      "execution_count": 38,
      "outputs": []
    },
    {
      "cell_type": "code",
      "source": [
        "df.drop(columns=['Alerji'], inplace=True)\n",
        "df=pd.concat([df, df_allergy], axis=1)"
      ],
      "metadata": {
        "id": "NowQ7SY8Ub0J"
      },
      "execution_count": 39,
      "outputs": []
    },
    {
      "cell_type": "code",
      "source": [
        "df.drop(columns=['Unknown'], inplace=True)\n",
        "df.head()"
      ],
      "metadata": {
        "colab": {
          "base_uri": "https://localhost:8080/",
          "height": 603
        },
        "id": "MglGPOfCU5Mm",
        "outputId": "e60040e0-1433-4cb6-f103-a57d41ce6595",
        "collapsed": true
      },
      "execution_count": 40,
      "outputs": [
        {
          "output_type": "execute_result",
          "data": {
            "text/plain": [
              "   HastaNo  Yas Cinsiyet KanGrubu  Uyruk  \\\n",
              "0   145134   60    Kadın    0 Rh+      1   \n",
              "1   145135   28    Erkek    0 Rh+      1   \n",
              "2   145135   28    Erkek    0 Rh+      1   \n",
              "3   145135   28    Erkek    0 Rh+      1   \n",
              "4   145135   28    Erkek    0 Rh+      1   \n",
              "\n",
              "                                      KronikHastalik  \\\n",
              "0  Becker Musküler Distrofisi, Hipotirodizm, Kalp...   \n",
              "1  Duchenne Musküler Distrofisi, Myastenia gravis...   \n",
              "2  Duchenne Musküler Distrofisi, Myastenia gravis...   \n",
              "3  Duchenne Musküler Distrofisi, Myastenia gravis...   \n",
              "4  Duchenne Musküler Distrofisi, Myastenia gravis...   \n",
              "\n",
              "                                            Bolum  \\\n",
              "0  Fiziksel Tıp Ve Rehabilitasyon,Solunum Merkezi   \n",
              "1  Fiziksel Tıp Ve Rehabilitasyon,Solunum Merkezi   \n",
              "2  Fiziksel Tıp Ve Rehabilitasyon,Solunum Merkezi   \n",
              "3  Fiziksel Tıp Ve Rehabilitasyon,Solunum Merkezi   \n",
              "4  Fiziksel Tıp Ve Rehabilitasyon,Solunum Merkezi   \n",
              "\n",
              "                                             Tanilar  \\\n",
              "0         Ayak bileği ve ayağın yüzeysel yaralanması   \n",
              "1  Omuzun darbe sendromu,DORSALJİ, DİĞER, SERVİKO...   \n",
              "2  Omuzun darbe sendromu,DORSALJİ, DİĞER, SERVİKO...   \n",
              "3  Omuzun darbe sendromu,DORSALJİ, DİĞER, SERVİKO...   \n",
              "4  Omuzun darbe sendromu,DORSALJİ, DİĞER, SERVİKO...   \n",
              "\n",
              "                         TedaviAdi UygulamaYerleri  ... Uygulama_suresi  \\\n",
              "0                      Ayak Bileği     Ayak Bileği  ...              20   \n",
              "1  Dorsalji -Boyun+trapez+skapular           Boyun  ...              20   \n",
              "2  Dorsalji -Boyun+trapez+skapular      Boyun,Sırt  ...              20   \n",
              "3  Dorsalji -Boyun+trapez+skapular           Boyun  ...               5   \n",
              "4  Dorsalji -Boyun+trapez+skapular      Boyun,Sırt  ...              20   \n",
              "\n",
              "   ARVELES  CORASPIN  GRIPIN  NOVALGIN  POLEN  Sucuk  TOZ  VOLTAREN  \\\n",
              "0        0         0       0         0      0      0    1         0   \n",
              "1        0         0       0         0      0      0    0         0   \n",
              "2        0         0       0         0      0      0    0         0   \n",
              "3        0         0       0         0      0      0    0         0   \n",
              "4        0         0       0         0      0      0    0         0   \n",
              "\n",
              "   Yer Fıstığı  \n",
              "0            0  \n",
              "1            0  \n",
              "2            0  \n",
              "3            0  \n",
              "4            0  \n",
              "\n",
              "[5 rows x 22 columns]"
            ],
            "text/html": [
              "\n",
              "  <div id=\"df-d0e3e8e6-ccd4-4592-b050-25d6a5501e01\" class=\"colab-df-container\">\n",
              "    <div>\n",
              "<style scoped>\n",
              "    .dataframe tbody tr th:only-of-type {\n",
              "        vertical-align: middle;\n",
              "    }\n",
              "\n",
              "    .dataframe tbody tr th {\n",
              "        vertical-align: top;\n",
              "    }\n",
              "\n",
              "    .dataframe thead th {\n",
              "        text-align: right;\n",
              "    }\n",
              "</style>\n",
              "<table border=\"1\" class=\"dataframe\">\n",
              "  <thead>\n",
              "    <tr style=\"text-align: right;\">\n",
              "      <th></th>\n",
              "      <th>HastaNo</th>\n",
              "      <th>Yas</th>\n",
              "      <th>Cinsiyet</th>\n",
              "      <th>KanGrubu</th>\n",
              "      <th>Uyruk</th>\n",
              "      <th>KronikHastalik</th>\n",
              "      <th>Bolum</th>\n",
              "      <th>Tanilar</th>\n",
              "      <th>TedaviAdi</th>\n",
              "      <th>UygulamaYerleri</th>\n",
              "      <th>...</th>\n",
              "      <th>Uygulama_suresi</th>\n",
              "      <th>ARVELES</th>\n",
              "      <th>CORASPIN</th>\n",
              "      <th>GRIPIN</th>\n",
              "      <th>NOVALGIN</th>\n",
              "      <th>POLEN</th>\n",
              "      <th>Sucuk</th>\n",
              "      <th>TOZ</th>\n",
              "      <th>VOLTAREN</th>\n",
              "      <th>Yer Fıstığı</th>\n",
              "    </tr>\n",
              "  </thead>\n",
              "  <tbody>\n",
              "    <tr>\n",
              "      <th>0</th>\n",
              "      <td>145134</td>\n",
              "      <td>60</td>\n",
              "      <td>Kadın</td>\n",
              "      <td>0 Rh+</td>\n",
              "      <td>1</td>\n",
              "      <td>Becker Musküler Distrofisi, Hipotirodizm, Kalp...</td>\n",
              "      <td>Fiziksel Tıp Ve Rehabilitasyon,Solunum Merkezi</td>\n",
              "      <td>Ayak bileği ve ayağın yüzeysel yaralanması</td>\n",
              "      <td>Ayak Bileği</td>\n",
              "      <td>Ayak Bileği</td>\n",
              "      <td>...</td>\n",
              "      <td>20</td>\n",
              "      <td>0</td>\n",
              "      <td>0</td>\n",
              "      <td>0</td>\n",
              "      <td>0</td>\n",
              "      <td>0</td>\n",
              "      <td>0</td>\n",
              "      <td>1</td>\n",
              "      <td>0</td>\n",
              "      <td>0</td>\n",
              "    </tr>\n",
              "    <tr>\n",
              "      <th>1</th>\n",
              "      <td>145135</td>\n",
              "      <td>28</td>\n",
              "      <td>Erkek</td>\n",
              "      <td>0 Rh+</td>\n",
              "      <td>1</td>\n",
              "      <td>Duchenne Musküler Distrofisi, Myastenia gravis...</td>\n",
              "      <td>Fiziksel Tıp Ve Rehabilitasyon,Solunum Merkezi</td>\n",
              "      <td>Omuzun darbe sendromu,DORSALJİ, DİĞER, SERVİKO...</td>\n",
              "      <td>Dorsalji -Boyun+trapez+skapular</td>\n",
              "      <td>Boyun</td>\n",
              "      <td>...</td>\n",
              "      <td>20</td>\n",
              "      <td>0</td>\n",
              "      <td>0</td>\n",
              "      <td>0</td>\n",
              "      <td>0</td>\n",
              "      <td>0</td>\n",
              "      <td>0</td>\n",
              "      <td>0</td>\n",
              "      <td>0</td>\n",
              "      <td>0</td>\n",
              "    </tr>\n",
              "    <tr>\n",
              "      <th>2</th>\n",
              "      <td>145135</td>\n",
              "      <td>28</td>\n",
              "      <td>Erkek</td>\n",
              "      <td>0 Rh+</td>\n",
              "      <td>1</td>\n",
              "      <td>Duchenne Musküler Distrofisi, Myastenia gravis...</td>\n",
              "      <td>Fiziksel Tıp Ve Rehabilitasyon,Solunum Merkezi</td>\n",
              "      <td>Omuzun darbe sendromu,DORSALJİ, DİĞER, SERVİKO...</td>\n",
              "      <td>Dorsalji -Boyun+trapez+skapular</td>\n",
              "      <td>Boyun,Sırt</td>\n",
              "      <td>...</td>\n",
              "      <td>20</td>\n",
              "      <td>0</td>\n",
              "      <td>0</td>\n",
              "      <td>0</td>\n",
              "      <td>0</td>\n",
              "      <td>0</td>\n",
              "      <td>0</td>\n",
              "      <td>0</td>\n",
              "      <td>0</td>\n",
              "      <td>0</td>\n",
              "    </tr>\n",
              "    <tr>\n",
              "      <th>3</th>\n",
              "      <td>145135</td>\n",
              "      <td>28</td>\n",
              "      <td>Erkek</td>\n",
              "      <td>0 Rh+</td>\n",
              "      <td>1</td>\n",
              "      <td>Duchenne Musküler Distrofisi, Myastenia gravis...</td>\n",
              "      <td>Fiziksel Tıp Ve Rehabilitasyon,Solunum Merkezi</td>\n",
              "      <td>Omuzun darbe sendromu,DORSALJİ, DİĞER, SERVİKO...</td>\n",
              "      <td>Dorsalji -Boyun+trapez+skapular</td>\n",
              "      <td>Boyun</td>\n",
              "      <td>...</td>\n",
              "      <td>5</td>\n",
              "      <td>0</td>\n",
              "      <td>0</td>\n",
              "      <td>0</td>\n",
              "      <td>0</td>\n",
              "      <td>0</td>\n",
              "      <td>0</td>\n",
              "      <td>0</td>\n",
              "      <td>0</td>\n",
              "      <td>0</td>\n",
              "    </tr>\n",
              "    <tr>\n",
              "      <th>4</th>\n",
              "      <td>145135</td>\n",
              "      <td>28</td>\n",
              "      <td>Erkek</td>\n",
              "      <td>0 Rh+</td>\n",
              "      <td>1</td>\n",
              "      <td>Duchenne Musküler Distrofisi, Myastenia gravis...</td>\n",
              "      <td>Fiziksel Tıp Ve Rehabilitasyon,Solunum Merkezi</td>\n",
              "      <td>Omuzun darbe sendromu,DORSALJİ, DİĞER, SERVİKO...</td>\n",
              "      <td>Dorsalji -Boyun+trapez+skapular</td>\n",
              "      <td>Boyun,Sırt</td>\n",
              "      <td>...</td>\n",
              "      <td>20</td>\n",
              "      <td>0</td>\n",
              "      <td>0</td>\n",
              "      <td>0</td>\n",
              "      <td>0</td>\n",
              "      <td>0</td>\n",
              "      <td>0</td>\n",
              "      <td>0</td>\n",
              "      <td>0</td>\n",
              "      <td>0</td>\n",
              "    </tr>\n",
              "  </tbody>\n",
              "</table>\n",
              "<p>5 rows × 22 columns</p>\n",
              "</div>\n",
              "    <div class=\"colab-df-buttons\">\n",
              "\n",
              "  <div class=\"colab-df-container\">\n",
              "    <button class=\"colab-df-convert\" onclick=\"convertToInteractive('df-d0e3e8e6-ccd4-4592-b050-25d6a5501e01')\"\n",
              "            title=\"Convert this dataframe to an interactive table.\"\n",
              "            style=\"display:none;\">\n",
              "\n",
              "  <svg xmlns=\"http://www.w3.org/2000/svg\" height=\"24px\" viewBox=\"0 -960 960 960\">\n",
              "    <path d=\"M120-120v-720h720v720H120Zm60-500h600v-160H180v160Zm220 220h160v-160H400v160Zm0 220h160v-160H400v160ZM180-400h160v-160H180v160Zm440 0h160v-160H620v160ZM180-180h160v-160H180v160Zm440 0h160v-160H620v160Z\"/>\n",
              "  </svg>\n",
              "    </button>\n",
              "\n",
              "  <style>\n",
              "    .colab-df-container {\n",
              "      display:flex;\n",
              "      gap: 12px;\n",
              "    }\n",
              "\n",
              "    .colab-df-convert {\n",
              "      background-color: #E8F0FE;\n",
              "      border: none;\n",
              "      border-radius: 50%;\n",
              "      cursor: pointer;\n",
              "      display: none;\n",
              "      fill: #1967D2;\n",
              "      height: 32px;\n",
              "      padding: 0 0 0 0;\n",
              "      width: 32px;\n",
              "    }\n",
              "\n",
              "    .colab-df-convert:hover {\n",
              "      background-color: #E2EBFA;\n",
              "      box-shadow: 0px 1px 2px rgba(60, 64, 67, 0.3), 0px 1px 3px 1px rgba(60, 64, 67, 0.15);\n",
              "      fill: #174EA6;\n",
              "    }\n",
              "\n",
              "    .colab-df-buttons div {\n",
              "      margin-bottom: 4px;\n",
              "    }\n",
              "\n",
              "    [theme=dark] .colab-df-convert {\n",
              "      background-color: #3B4455;\n",
              "      fill: #D2E3FC;\n",
              "    }\n",
              "\n",
              "    [theme=dark] .colab-df-convert:hover {\n",
              "      background-color: #434B5C;\n",
              "      box-shadow: 0px 1px 3px 1px rgba(0, 0, 0, 0.15);\n",
              "      filter: drop-shadow(0px 1px 2px rgba(0, 0, 0, 0.3));\n",
              "      fill: #FFFFFF;\n",
              "    }\n",
              "  </style>\n",
              "\n",
              "    <script>\n",
              "      const buttonEl =\n",
              "        document.querySelector('#df-d0e3e8e6-ccd4-4592-b050-25d6a5501e01 button.colab-df-convert');\n",
              "      buttonEl.style.display =\n",
              "        google.colab.kernel.accessAllowed ? 'block' : 'none';\n",
              "\n",
              "      async function convertToInteractive(key) {\n",
              "        const element = document.querySelector('#df-d0e3e8e6-ccd4-4592-b050-25d6a5501e01');\n",
              "        const dataTable =\n",
              "          await google.colab.kernel.invokeFunction('convertToInteractive',\n",
              "                                                    [key], {});\n",
              "        if (!dataTable) return;\n",
              "\n",
              "        const docLinkHtml = 'Like what you see? Visit the ' +\n",
              "          '<a target=\"_blank\" href=https://colab.research.google.com/notebooks/data_table.ipynb>data table notebook</a>'\n",
              "          + ' to learn more about interactive tables.';\n",
              "        element.innerHTML = '';\n",
              "        dataTable['output_type'] = 'display_data';\n",
              "        await google.colab.output.renderOutput(dataTable, element);\n",
              "        const docLink = document.createElement('div');\n",
              "        docLink.innerHTML = docLinkHtml;\n",
              "        element.appendChild(docLink);\n",
              "      }\n",
              "    </script>\n",
              "  </div>\n",
              "\n",
              "\n",
              "    <div id=\"df-4530f007-7235-4ec6-ac14-d5fa2959d0ac\">\n",
              "      <button class=\"colab-df-quickchart\" onclick=\"quickchart('df-4530f007-7235-4ec6-ac14-d5fa2959d0ac')\"\n",
              "                title=\"Suggest charts\"\n",
              "                style=\"display:none;\">\n",
              "\n",
              "<svg xmlns=\"http://www.w3.org/2000/svg\" height=\"24px\"viewBox=\"0 0 24 24\"\n",
              "     width=\"24px\">\n",
              "    <g>\n",
              "        <path d=\"M19 3H5c-1.1 0-2 .9-2 2v14c0 1.1.9 2 2 2h14c1.1 0 2-.9 2-2V5c0-1.1-.9-2-2-2zM9 17H7v-7h2v7zm4 0h-2V7h2v10zm4 0h-2v-4h2v4z\"/>\n",
              "    </g>\n",
              "</svg>\n",
              "      </button>\n",
              "\n",
              "<style>\n",
              "  .colab-df-quickchart {\n",
              "      --bg-color: #E8F0FE;\n",
              "      --fill-color: #1967D2;\n",
              "      --hover-bg-color: #E2EBFA;\n",
              "      --hover-fill-color: #174EA6;\n",
              "      --disabled-fill-color: #AAA;\n",
              "      --disabled-bg-color: #DDD;\n",
              "  }\n",
              "\n",
              "  [theme=dark] .colab-df-quickchart {\n",
              "      --bg-color: #3B4455;\n",
              "      --fill-color: #D2E3FC;\n",
              "      --hover-bg-color: #434B5C;\n",
              "      --hover-fill-color: #FFFFFF;\n",
              "      --disabled-bg-color: #3B4455;\n",
              "      --disabled-fill-color: #666;\n",
              "  }\n",
              "\n",
              "  .colab-df-quickchart {\n",
              "    background-color: var(--bg-color);\n",
              "    border: none;\n",
              "    border-radius: 50%;\n",
              "    cursor: pointer;\n",
              "    display: none;\n",
              "    fill: var(--fill-color);\n",
              "    height: 32px;\n",
              "    padding: 0;\n",
              "    width: 32px;\n",
              "  }\n",
              "\n",
              "  .colab-df-quickchart:hover {\n",
              "    background-color: var(--hover-bg-color);\n",
              "    box-shadow: 0 1px 2px rgba(60, 64, 67, 0.3), 0 1px 3px 1px rgba(60, 64, 67, 0.15);\n",
              "    fill: var(--button-hover-fill-color);\n",
              "  }\n",
              "\n",
              "  .colab-df-quickchart-complete:disabled,\n",
              "  .colab-df-quickchart-complete:disabled:hover {\n",
              "    background-color: var(--disabled-bg-color);\n",
              "    fill: var(--disabled-fill-color);\n",
              "    box-shadow: none;\n",
              "  }\n",
              "\n",
              "  .colab-df-spinner {\n",
              "    border: 2px solid var(--fill-color);\n",
              "    border-color: transparent;\n",
              "    border-bottom-color: var(--fill-color);\n",
              "    animation:\n",
              "      spin 1s steps(1) infinite;\n",
              "  }\n",
              "\n",
              "  @keyframes spin {\n",
              "    0% {\n",
              "      border-color: transparent;\n",
              "      border-bottom-color: var(--fill-color);\n",
              "      border-left-color: var(--fill-color);\n",
              "    }\n",
              "    20% {\n",
              "      border-color: transparent;\n",
              "      border-left-color: var(--fill-color);\n",
              "      border-top-color: var(--fill-color);\n",
              "    }\n",
              "    30% {\n",
              "      border-color: transparent;\n",
              "      border-left-color: var(--fill-color);\n",
              "      border-top-color: var(--fill-color);\n",
              "      border-right-color: var(--fill-color);\n",
              "    }\n",
              "    40% {\n",
              "      border-color: transparent;\n",
              "      border-right-color: var(--fill-color);\n",
              "      border-top-color: var(--fill-color);\n",
              "    }\n",
              "    60% {\n",
              "      border-color: transparent;\n",
              "      border-right-color: var(--fill-color);\n",
              "    }\n",
              "    80% {\n",
              "      border-color: transparent;\n",
              "      border-right-color: var(--fill-color);\n",
              "      border-bottom-color: var(--fill-color);\n",
              "    }\n",
              "    90% {\n",
              "      border-color: transparent;\n",
              "      border-bottom-color: var(--fill-color);\n",
              "    }\n",
              "  }\n",
              "</style>\n",
              "\n",
              "      <script>\n",
              "        async function quickchart(key) {\n",
              "          const quickchartButtonEl =\n",
              "            document.querySelector('#' + key + ' button');\n",
              "          quickchartButtonEl.disabled = true;  // To prevent multiple clicks.\n",
              "          quickchartButtonEl.classList.add('colab-df-spinner');\n",
              "          try {\n",
              "            const charts = await google.colab.kernel.invokeFunction(\n",
              "                'suggestCharts', [key], {});\n",
              "          } catch (error) {\n",
              "            console.error('Error during call to suggestCharts:', error);\n",
              "          }\n",
              "          quickchartButtonEl.classList.remove('colab-df-spinner');\n",
              "          quickchartButtonEl.classList.add('colab-df-quickchart-complete');\n",
              "        }\n",
              "        (() => {\n",
              "          let quickchartButtonEl =\n",
              "            document.querySelector('#df-4530f007-7235-4ec6-ac14-d5fa2959d0ac button');\n",
              "          quickchartButtonEl.style.display =\n",
              "            google.colab.kernel.accessAllowed ? 'block' : 'none';\n",
              "        })();\n",
              "      </script>\n",
              "    </div>\n",
              "\n",
              "    </div>\n",
              "  </div>\n"
            ],
            "application/vnd.google.colaboratory.intrinsic+json": {
              "type": "dataframe",
              "variable_name": "df"
            }
          },
          "metadata": {},
          "execution_count": 40
        }
      ]
    },
    {
      "cell_type": "code",
      "source": [
        "df[\"Cinsiyet_binary\"] = np.where(df[\"Cinsiyet\"].isna(), 2,\n",
        "                                 np.where(df[\"Cinsiyet\"] == \"Erkek\", 1, 0))"
      ],
      "metadata": {
        "id": "ei1YnHpsVadN"
      },
      "execution_count": 41,
      "outputs": []
    },
    {
      "cell_type": "code",
      "source": [
        "df.drop(columns=['Cinsiyet'], inplace=True)"
      ],
      "metadata": {
        "id": "dIxjHTnMZgFz"
      },
      "execution_count": 42,
      "outputs": []
    },
    {
      "cell_type": "code",
      "source": [
        "df.drop(columns=['KanGrubu',\"KanGrubuSimplified\"], inplace=True)"
      ],
      "metadata": {
        "colab": {
          "base_uri": "https://localhost:8080/",
          "height": 287
        },
        "id": "vAnDWg4bWV4A",
        "outputId": "43550be2-f9bd-4e49-86dd-ceadb8fdb152"
      },
      "execution_count": 44,
      "outputs": [
        {
          "output_type": "error",
          "ename": "KeyError",
          "evalue": "\"['KanGrubuSimplified'] not found in axis\"",
          "traceback": [
            "\u001b[0;31m---------------------------------------------------------------------------\u001b[0m",
            "\u001b[0;31mKeyError\u001b[0m                                  Traceback (most recent call last)",
            "\u001b[0;32m/tmp/ipython-input-2776897161.py\u001b[0m in \u001b[0;36m<cell line: 0>\u001b[0;34m()\u001b[0m\n\u001b[0;32m----> 1\u001b[0;31m \u001b[0mdf\u001b[0m\u001b[0;34m.\u001b[0m\u001b[0mdrop\u001b[0m\u001b[0;34m(\u001b[0m\u001b[0mcolumns\u001b[0m\u001b[0;34m=\u001b[0m\u001b[0;34m[\u001b[0m\u001b[0;34m'KanGrubu'\u001b[0m\u001b[0;34m,\u001b[0m\u001b[0;34m\"KanGrubuSimplified\"\u001b[0m\u001b[0;34m]\u001b[0m\u001b[0;34m,\u001b[0m \u001b[0minplace\u001b[0m\u001b[0;34m=\u001b[0m\u001b[0;32mTrue\u001b[0m\u001b[0;34m)\u001b[0m\u001b[0;34m\u001b[0m\u001b[0;34m\u001b[0m\u001b[0m\n\u001b[0m",
            "\u001b[0;32m/usr/local/lib/python3.12/dist-packages/pandas/core/frame.py\u001b[0m in \u001b[0;36mdrop\u001b[0;34m(self, labels, axis, index, columns, level, inplace, errors)\u001b[0m\n\u001b[1;32m   5579\u001b[0m                 \u001b[0mweight\u001b[0m  \u001b[0;36m1.0\u001b[0m     \u001b[0;36m0.8\u001b[0m\u001b[0;34m\u001b[0m\u001b[0;34m\u001b[0m\u001b[0m\n\u001b[1;32m   5580\u001b[0m         \"\"\"\n\u001b[0;32m-> 5581\u001b[0;31m         return super().drop(\n\u001b[0m\u001b[1;32m   5582\u001b[0m             \u001b[0mlabels\u001b[0m\u001b[0;34m=\u001b[0m\u001b[0mlabels\u001b[0m\u001b[0;34m,\u001b[0m\u001b[0;34m\u001b[0m\u001b[0;34m\u001b[0m\u001b[0m\n\u001b[1;32m   5583\u001b[0m             \u001b[0maxis\u001b[0m\u001b[0;34m=\u001b[0m\u001b[0maxis\u001b[0m\u001b[0;34m,\u001b[0m\u001b[0;34m\u001b[0m\u001b[0;34m\u001b[0m\u001b[0m\n",
            "\u001b[0;32m/usr/local/lib/python3.12/dist-packages/pandas/core/generic.py\u001b[0m in \u001b[0;36mdrop\u001b[0;34m(self, labels, axis, index, columns, level, inplace, errors)\u001b[0m\n\u001b[1;32m   4786\u001b[0m         \u001b[0;32mfor\u001b[0m \u001b[0maxis\u001b[0m\u001b[0;34m,\u001b[0m \u001b[0mlabels\u001b[0m \u001b[0;32min\u001b[0m \u001b[0maxes\u001b[0m\u001b[0;34m.\u001b[0m\u001b[0mitems\u001b[0m\u001b[0;34m(\u001b[0m\u001b[0;34m)\u001b[0m\u001b[0;34m:\u001b[0m\u001b[0;34m\u001b[0m\u001b[0;34m\u001b[0m\u001b[0m\n\u001b[1;32m   4787\u001b[0m             \u001b[0;32mif\u001b[0m \u001b[0mlabels\u001b[0m \u001b[0;32mis\u001b[0m \u001b[0;32mnot\u001b[0m \u001b[0;32mNone\u001b[0m\u001b[0;34m:\u001b[0m\u001b[0;34m\u001b[0m\u001b[0;34m\u001b[0m\u001b[0m\n\u001b[0;32m-> 4788\u001b[0;31m                 \u001b[0mobj\u001b[0m \u001b[0;34m=\u001b[0m \u001b[0mobj\u001b[0m\u001b[0;34m.\u001b[0m\u001b[0m_drop_axis\u001b[0m\u001b[0;34m(\u001b[0m\u001b[0mlabels\u001b[0m\u001b[0;34m,\u001b[0m \u001b[0maxis\u001b[0m\u001b[0;34m,\u001b[0m \u001b[0mlevel\u001b[0m\u001b[0;34m=\u001b[0m\u001b[0mlevel\u001b[0m\u001b[0;34m,\u001b[0m \u001b[0merrors\u001b[0m\u001b[0;34m=\u001b[0m\u001b[0merrors\u001b[0m\u001b[0;34m)\u001b[0m\u001b[0;34m\u001b[0m\u001b[0;34m\u001b[0m\u001b[0m\n\u001b[0m\u001b[1;32m   4789\u001b[0m \u001b[0;34m\u001b[0m\u001b[0m\n\u001b[1;32m   4790\u001b[0m         \u001b[0;32mif\u001b[0m \u001b[0minplace\u001b[0m\u001b[0;34m:\u001b[0m\u001b[0;34m\u001b[0m\u001b[0;34m\u001b[0m\u001b[0m\n",
            "\u001b[0;32m/usr/local/lib/python3.12/dist-packages/pandas/core/generic.py\u001b[0m in \u001b[0;36m_drop_axis\u001b[0;34m(self, labels, axis, level, errors, only_slice)\u001b[0m\n\u001b[1;32m   4828\u001b[0m                 \u001b[0mnew_axis\u001b[0m \u001b[0;34m=\u001b[0m \u001b[0maxis\u001b[0m\u001b[0;34m.\u001b[0m\u001b[0mdrop\u001b[0m\u001b[0;34m(\u001b[0m\u001b[0mlabels\u001b[0m\u001b[0;34m,\u001b[0m \u001b[0mlevel\u001b[0m\u001b[0;34m=\u001b[0m\u001b[0mlevel\u001b[0m\u001b[0;34m,\u001b[0m \u001b[0merrors\u001b[0m\u001b[0;34m=\u001b[0m\u001b[0merrors\u001b[0m\u001b[0;34m)\u001b[0m\u001b[0;34m\u001b[0m\u001b[0;34m\u001b[0m\u001b[0m\n\u001b[1;32m   4829\u001b[0m             \u001b[0;32melse\u001b[0m\u001b[0;34m:\u001b[0m\u001b[0;34m\u001b[0m\u001b[0;34m\u001b[0m\u001b[0m\n\u001b[0;32m-> 4830\u001b[0;31m                 \u001b[0mnew_axis\u001b[0m \u001b[0;34m=\u001b[0m \u001b[0maxis\u001b[0m\u001b[0;34m.\u001b[0m\u001b[0mdrop\u001b[0m\u001b[0;34m(\u001b[0m\u001b[0mlabels\u001b[0m\u001b[0;34m,\u001b[0m \u001b[0merrors\u001b[0m\u001b[0;34m=\u001b[0m\u001b[0merrors\u001b[0m\u001b[0;34m)\u001b[0m\u001b[0;34m\u001b[0m\u001b[0;34m\u001b[0m\u001b[0m\n\u001b[0m\u001b[1;32m   4831\u001b[0m             \u001b[0mindexer\u001b[0m \u001b[0;34m=\u001b[0m \u001b[0maxis\u001b[0m\u001b[0;34m.\u001b[0m\u001b[0mget_indexer\u001b[0m\u001b[0;34m(\u001b[0m\u001b[0mnew_axis\u001b[0m\u001b[0;34m)\u001b[0m\u001b[0;34m\u001b[0m\u001b[0;34m\u001b[0m\u001b[0m\n\u001b[1;32m   4832\u001b[0m \u001b[0;34m\u001b[0m\u001b[0m\n",
            "\u001b[0;32m/usr/local/lib/python3.12/dist-packages/pandas/core/indexes/base.py\u001b[0m in \u001b[0;36mdrop\u001b[0;34m(self, labels, errors)\u001b[0m\n\u001b[1;32m   7068\u001b[0m         \u001b[0;32mif\u001b[0m \u001b[0mmask\u001b[0m\u001b[0;34m.\u001b[0m\u001b[0many\u001b[0m\u001b[0;34m(\u001b[0m\u001b[0;34m)\u001b[0m\u001b[0;34m:\u001b[0m\u001b[0;34m\u001b[0m\u001b[0;34m\u001b[0m\u001b[0m\n\u001b[1;32m   7069\u001b[0m             \u001b[0;32mif\u001b[0m \u001b[0merrors\u001b[0m \u001b[0;34m!=\u001b[0m \u001b[0;34m\"ignore\"\u001b[0m\u001b[0;34m:\u001b[0m\u001b[0;34m\u001b[0m\u001b[0;34m\u001b[0m\u001b[0m\n\u001b[0;32m-> 7070\u001b[0;31m                 \u001b[0;32mraise\u001b[0m \u001b[0mKeyError\u001b[0m\u001b[0;34m(\u001b[0m\u001b[0;34mf\"{labels[mask].tolist()} not found in axis\"\u001b[0m\u001b[0;34m)\u001b[0m\u001b[0;34m\u001b[0m\u001b[0;34m\u001b[0m\u001b[0m\n\u001b[0m\u001b[1;32m   7071\u001b[0m             \u001b[0mindexer\u001b[0m \u001b[0;34m=\u001b[0m \u001b[0mindexer\u001b[0m\u001b[0;34m[\u001b[0m\u001b[0;34m~\u001b[0m\u001b[0mmask\u001b[0m\u001b[0;34m]\u001b[0m\u001b[0;34m\u001b[0m\u001b[0;34m\u001b[0m\u001b[0m\n\u001b[1;32m   7072\u001b[0m         \u001b[0;32mreturn\u001b[0m \u001b[0mself\u001b[0m\u001b[0;34m.\u001b[0m\u001b[0mdelete\u001b[0m\u001b[0;34m(\u001b[0m\u001b[0mindexer\u001b[0m\u001b[0;34m)\u001b[0m\u001b[0;34m\u001b[0m\u001b[0;34m\u001b[0m\u001b[0m\n",
            "\u001b[0;31mKeyError\u001b[0m: \"['KanGrubuSimplified'] not found in axis\""
          ]
        }
      ]
    },
    {
      "cell_type": "code",
      "source": [
        "df=pd.concat([df, df_onehot], axis=1)"
      ],
      "metadata": {
        "id": "Nt-yrB_tXaoJ"
      },
      "execution_count": null,
      "outputs": []
    },
    {
      "cell_type": "code",
      "source": [
        "missing_counts = df.isna().sum()\n",
        "missing_counts = missing_counts[missing_counts > 0]  # sadece eksik olan sütunlar\n",
        "missing_percent = (missing_counts / len(df) * 100).round(2)\n",
        "\n",
        "plt.figure(figsize=(7,7))\n",
        "plt.pie(\n",
        "    missing_counts,\n",
        "    labels=missing_counts.index,\n",
        "    autopct=lambda p: f'{p:.2f}%',\n",
        "    startangle=140\n",
        ")\n",
        "plt.title(\"Eksik Veriler – Sütun Bazında (%)\")\n",
        "plt.legend(missing_counts.index, title=\"Sütunlar\", bbox_to_anchor=(1.05, 1), loc='upper left')\n",
        "plt.show()\n",
        "\n"
      ],
      "metadata": {
        "colab": {
          "base_uri": "https://localhost:8080/",
          "height": 598
        },
        "id": "yohqe15PcQKd",
        "outputId": "3c98e7ab-37e7-4400-ff3e-b91933b17a92"
      },
      "execution_count": null,
      "outputs": [
        {
          "output_type": "display_data",
          "data": {
            "text/plain": [
              "<Figure size 700x700 with 1 Axes>"
            ],
            "image/png": "[encoded data removed]"
          },
          "metadata": {}
        }
      ]
    }
  ]
}